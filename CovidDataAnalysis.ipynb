{
 "cells": [
  {
   "cell_type": "code",
   "execution_count": null,
   "id": "2c54ebac",
   "metadata": {},
   "outputs": [],
   "source": [
    "#2021년 코로나 Data 분석하기 (2021년 1월 ~ 2021년 9월 까지의 data 분석)"
   ]
  },
  {
   "cell_type": "markdown",
   "id": "f2785aa0",
   "metadata": {},
   "source": [
    "## 프로젝트 목표\n",
    "- 서울시 코로나19 확진자 현황 데이터를 분석하여 유의미한 정보 도출\n",
    "- 탐색적 데이터 분석을 수행하기 위한 데이터 정제, 특성 엔지니어링, 시각화 방법 학습"
   ]
  },
  {
   "cell_type": "markdown",
   "id": "849d1557",
   "metadata": {},
   "source": [
    "## 데이터 출처\n",
    "-  https://www.data.go.kr/tcs/dss/selectFileDataDetailView.do?publicDataPk=15063273"
   ]
  },
  {
   "cell_type": "markdown",
   "id": "1be95dfd",
   "metadata": {},
   "source": [
    "## 1. 데이터 읽기\n",
    "필요한 패키지 설치 및 `import`한 후 `pandas`를 사용하여 데이터를 읽고 어떠한 데이터가 저장되어 있는지 확인합니다."
   ]
  },
  {
   "cell_type": "markdown",
   "id": "b17c89eb",
   "metadata": {},
   "source": [
    "### 1.1. 데이터 불러오기"
   ]
  },
  {
   "cell_type": "code",
   "execution_count": 4,
   "id": "82b05380",
   "metadata": {},
   "outputs": [],
   "source": [
    "import numpy as np \n",
    "import pandas as pd \n",
    "import matplotlib.pyplot as plt\n",
    "import seaborn as sns"
   ]
  },
  {
   "cell_type": "code",
   "execution_count": 5,
   "id": "26c17e55",
   "metadata": {},
   "outputs": [],
   "source": [
    "# pd.read_csv를 통하여 dataframe 형태로 csv 파일 읽기.\n",
    "corona_all=pd.read_csv(\"./data/서울시 코로나19 확진자 현황.csv\")"
   ]
  },
  {
   "cell_type": "code",
   "execution_count": 6,
   "id": "69ac69ed",
   "metadata": {},
   "outputs": [
    {
     "data": {
      "text/html": [
       "<div>\n",
       "<style scoped>\n",
       "    .dataframe tbody tr th:only-of-type {\n",
       "        vertical-align: middle;\n",
       "    }\n",
       "\n",
       "    .dataframe tbody tr th {\n",
       "        vertical-align: top;\n",
       "    }\n",
       "\n",
       "    .dataframe thead th {\n",
       "        text-align: right;\n",
       "    }\n",
       "</style>\n",
       "<table border=\"1\" class=\"dataframe\">\n",
       "  <thead>\n",
       "    <tr style=\"text-align: right;\">\n",
       "      <th></th>\n",
       "      <th>연번</th>\n",
       "      <th>확진일</th>\n",
       "      <th>환자번호</th>\n",
       "      <th>국적</th>\n",
       "      <th>환자정보</th>\n",
       "      <th>지역</th>\n",
       "      <th>여행력</th>\n",
       "      <th>접촉력</th>\n",
       "      <th>조치사항</th>\n",
       "      <th>상태</th>\n",
       "      <th>이동경로</th>\n",
       "      <th>등록일</th>\n",
       "      <th>수정일</th>\n",
       "      <th>노출여부</th>\n",
       "    </tr>\n",
       "  </thead>\n",
       "  <tbody>\n",
       "    <tr>\n",
       "      <th>0</th>\n",
       "      <td>82657</td>\n",
       "      <td>2021-09-05</td>\n",
       "      <td>NaN</td>\n",
       "      <td>NaN</td>\n",
       "      <td>NaN</td>\n",
       "      <td>영등포구</td>\n",
       "      <td>NaN</td>\n",
       "      <td>감염경로 조사중</td>\n",
       "      <td>NaN</td>\n",
       "      <td>-</td>\n",
       "      <td>NaN</td>\n",
       "      <td>2021-09-06 10:36</td>\n",
       "      <td>2021-09-06 10:36</td>\n",
       "      <td>Y</td>\n",
       "    </tr>\n",
       "    <tr>\n",
       "      <th>1</th>\n",
       "      <td>82656</td>\n",
       "      <td>2021-09-05</td>\n",
       "      <td>NaN</td>\n",
       "      <td>NaN</td>\n",
       "      <td>NaN</td>\n",
       "      <td>서대문구</td>\n",
       "      <td>NaN</td>\n",
       "      <td>타시도 확진자 접촉</td>\n",
       "      <td>NaN</td>\n",
       "      <td>-</td>\n",
       "      <td>NaN</td>\n",
       "      <td>2021-09-06 10:36</td>\n",
       "      <td>2021-09-06 10:36</td>\n",
       "      <td>Y</td>\n",
       "    </tr>\n",
       "    <tr>\n",
       "      <th>2</th>\n",
       "      <td>82655</td>\n",
       "      <td>2021-09-05</td>\n",
       "      <td>NaN</td>\n",
       "      <td>NaN</td>\n",
       "      <td>NaN</td>\n",
       "      <td>타시도</td>\n",
       "      <td>NaN</td>\n",
       "      <td>기타 확진자 접촉</td>\n",
       "      <td>NaN</td>\n",
       "      <td>-</td>\n",
       "      <td>NaN</td>\n",
       "      <td>2021-09-06 10:36</td>\n",
       "      <td>2021-09-06 10:36</td>\n",
       "      <td>Y</td>\n",
       "    </tr>\n",
       "    <tr>\n",
       "      <th>3</th>\n",
       "      <td>82654</td>\n",
       "      <td>2021-09-05</td>\n",
       "      <td>NaN</td>\n",
       "      <td>NaN</td>\n",
       "      <td>NaN</td>\n",
       "      <td>타시도</td>\n",
       "      <td>NaN</td>\n",
       "      <td>기타 확진자 접촉</td>\n",
       "      <td>NaN</td>\n",
       "      <td>-</td>\n",
       "      <td>NaN</td>\n",
       "      <td>2021-09-06 10:36</td>\n",
       "      <td>2021-09-06 10:36</td>\n",
       "      <td>Y</td>\n",
       "    </tr>\n",
       "    <tr>\n",
       "      <th>4</th>\n",
       "      <td>82653</td>\n",
       "      <td>2021-09-05</td>\n",
       "      <td>NaN</td>\n",
       "      <td>NaN</td>\n",
       "      <td>NaN</td>\n",
       "      <td>타시도</td>\n",
       "      <td>NaN</td>\n",
       "      <td>기타 확진자 접촉</td>\n",
       "      <td>NaN</td>\n",
       "      <td>-</td>\n",
       "      <td>NaN</td>\n",
       "      <td>2021-09-06 10:36</td>\n",
       "      <td>2021-09-06 10:36</td>\n",
       "      <td>Y</td>\n",
       "    </tr>\n",
       "  </tbody>\n",
       "</table>\n",
       "</div>"
      ],
      "text/plain": [
       "      연번         확진일  환자번호  국적  환자정보    지역  여행력         접촉력  조치사항 상태  이동경로  \\\n",
       "0  82657  2021-09-05   NaN NaN   NaN  영등포구  NaN    감염경로 조사중   NaN  -   NaN   \n",
       "1  82656  2021-09-05   NaN NaN   NaN  서대문구  NaN  타시도 확진자 접촉   NaN  -   NaN   \n",
       "2  82655  2021-09-05   NaN NaN   NaN   타시도  NaN   기타 확진자 접촉   NaN  -   NaN   \n",
       "3  82654  2021-09-05   NaN NaN   NaN   타시도  NaN   기타 확진자 접촉   NaN  -   NaN   \n",
       "4  82653  2021-09-05   NaN NaN   NaN   타시도  NaN   기타 확진자 접촉   NaN  -   NaN   \n",
       "\n",
       "                등록일               수정일 노출여부  \n",
       "0  2021-09-06 10:36  2021-09-06 10:36    Y  \n",
       "1  2021-09-06 10:36  2021-09-06 10:36    Y  \n",
       "2  2021-09-06 10:36  2021-09-06 10:36    Y  \n",
       "3  2021-09-06 10:36  2021-09-06 10:36    Y  \n",
       "4  2021-09-06 10:36  2021-09-06 10:36    Y  "
      ]
     },
     "execution_count": 6,
     "metadata": {},
     "output_type": "execute_result"
    }
   ],
   "source": [
    "# head() 함수를 이용해 상위 5개 데이터를 출력.\n",
    "corona_all.head()"
   ]
  },
  {
   "cell_type": "code",
   "execution_count": 7,
   "id": "ce65af6d",
   "metadata": {},
   "outputs": [
    {
     "name": "stdout",
     "output_type": "stream",
     "text": [
      "<class 'pandas.core.frame.DataFrame'>\n",
      "RangeIndex: 63054 entries, 0 to 63053\n",
      "Data columns (total 14 columns):\n",
      " #   Column  Non-Null Count  Dtype  \n",
      "---  ------  --------------  -----  \n",
      " 0   연번      63054 non-null  int64  \n",
      " 1   확진일     63054 non-null  object \n",
      " 2   환자번호    0 non-null      float64\n",
      " 3   국적      0 non-null      float64\n",
      " 4   환자정보    0 non-null      float64\n",
      " 5   지역      63054 non-null  object \n",
      " 6   여행력     970 non-null    object \n",
      " 7   접촉력     63054 non-null  object \n",
      " 8   조치사항    0 non-null      float64\n",
      " 9   상태      63054 non-null  object \n",
      " 10  이동경로    0 non-null      float64\n",
      " 11  등록일     63054 non-null  object \n",
      " 12  수정일     63054 non-null  object \n",
      " 13  노출여부    63054 non-null  object \n",
      "dtypes: float64(5), int64(1), object(8)\n",
      "memory usage: 6.7+ MB\n"
     ]
    }
   ],
   "source": [
    "# dataframe 정보를 요약하여 출력. \n",
    "corona_all.info()"
   ]
  },
  {
   "cell_type": "code",
   "execution_count": null,
   "id": "77f5ab2d",
   "metadata": {},
   "outputs": [],
   "source": []
  }
 ],
 "metadata": {
  "kernelspec": {
   "display_name": "Python 3",
   "language": "python",
   "name": "python3"
  },
  "language_info": {
   "codemirror_mode": {
    "name": "ipython",
    "version": 3
   },
   "file_extension": ".py",
   "mimetype": "text/x-python",
   "name": "python",
   "nbconvert_exporter": "python",
   "pygments_lexer": "ipython3",
   "version": "3.8.8"
  }
 },
 "nbformat": 4,
 "nbformat_minor": 5
}
