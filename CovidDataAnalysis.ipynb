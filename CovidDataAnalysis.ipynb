{
 "cells": [
  {
   "cell_type": "code",
   "execution_count": null,
   "id": "2c54ebac",
   "metadata": {},
   "outputs": [],
   "source": [
    "#2021년 코로나 Data 분석하기 (2021년 1월 ~ 2021년 9월 까지의 data 분석)"
   ]
  },
  {
   "cell_type": "markdown",
   "id": "f2785aa0",
   "metadata": {},
   "source": [
    "## 프로젝트 목표\n",
    "- 2021년 서울시 코로나19 확진자 현황 데이터를 분석하여 유의미한 정보 도출\n",
    "- matplotlib을 다루는 법 학습"
   ]
  },
  {
   "cell_type": "markdown",
   "id": "849d1557",
   "metadata": {},
   "source": [
    "## 데이터 출처\n",
    "-  https://www.data.go.kr/tcs/dss/selectFileDataDetailView.do?publicDataPk=15063273\n",
    "-  http://data.seoul.go.kr/dataList/OA-20279/S/1/datasetView.do"
   ]
  },
  {
   "cell_type": "markdown",
   "id": "1be95dfd",
   "metadata": {},
   "source": [
    "## 1. 데이터 읽기\n",
    "필요한 패키지 설치 및 `import`한 후 `pandas`를 사용하여 데이터를 읽고 어떠한 데이터가 저장되어 있는지 확인."
   ]
  },
  {
   "cell_type": "markdown",
   "id": "9173351d",
   "metadata": {},
   "source": [
    "### 1.1. 데이터 불러오기"
   ]
  },
  {
   "cell_type": "code",
   "execution_count": 39,
   "id": "82b05380",
   "metadata": {},
   "outputs": [],
   "source": [
    "import numpy as np \n",
    "import pandas as pd \n",
    "import matplotlib.pyplot as plt\n",
    "import seaborn as sns"
   ]
  },
  {
   "cell_type": "code",
   "execution_count": 40,
   "id": "26c17e55",
   "metadata": {},
   "outputs": [],
   "source": [
    "# pd.read_csv를 통하여 dataframe 형태로 csv 파일 읽기.\n",
    "corona_all=pd.read_csv(\"./data/서울시 코로나19 확진자 현황.csv\")"
   ]
  },
  {
   "cell_type": "code",
   "execution_count": 41,
   "id": "69ac69ed",
   "metadata": {},
   "outputs": [
    {
     "data": {
      "text/html": [
       "<div>\n",
       "<style scoped>\n",
       "    .dataframe tbody tr th:only-of-type {\n",
       "        vertical-align: middle;\n",
       "    }\n",
       "\n",
       "    .dataframe tbody tr th {\n",
       "        vertical-align: top;\n",
       "    }\n",
       "\n",
       "    .dataframe thead th {\n",
       "        text-align: right;\n",
       "    }\n",
       "</style>\n",
       "<table border=\"1\" class=\"dataframe\">\n",
       "  <thead>\n",
       "    <tr style=\"text-align: right;\">\n",
       "      <th></th>\n",
       "      <th>연번</th>\n",
       "      <th>확진일</th>\n",
       "      <th>환자번호</th>\n",
       "      <th>국적</th>\n",
       "      <th>환자정보</th>\n",
       "      <th>지역</th>\n",
       "      <th>여행력</th>\n",
       "      <th>접촉력</th>\n",
       "      <th>조치사항</th>\n",
       "      <th>상태</th>\n",
       "      <th>이동경로</th>\n",
       "      <th>등록일</th>\n",
       "      <th>수정일</th>\n",
       "      <th>노출여부</th>\n",
       "    </tr>\n",
       "  </thead>\n",
       "  <tbody>\n",
       "    <tr>\n",
       "      <th>0</th>\n",
       "      <td>82657</td>\n",
       "      <td>2021-09-05</td>\n",
       "      <td>NaN</td>\n",
       "      <td>NaN</td>\n",
       "      <td>NaN</td>\n",
       "      <td>영등포구</td>\n",
       "      <td>NaN</td>\n",
       "      <td>감염경로 조사중</td>\n",
       "      <td>NaN</td>\n",
       "      <td>-</td>\n",
       "      <td>NaN</td>\n",
       "      <td>2021-09-06 10:36</td>\n",
       "      <td>2021-09-06 10:36</td>\n",
       "      <td>Y</td>\n",
       "    </tr>\n",
       "    <tr>\n",
       "      <th>1</th>\n",
       "      <td>82656</td>\n",
       "      <td>2021-09-05</td>\n",
       "      <td>NaN</td>\n",
       "      <td>NaN</td>\n",
       "      <td>NaN</td>\n",
       "      <td>서대문구</td>\n",
       "      <td>NaN</td>\n",
       "      <td>타시도 확진자 접촉</td>\n",
       "      <td>NaN</td>\n",
       "      <td>-</td>\n",
       "      <td>NaN</td>\n",
       "      <td>2021-09-06 10:36</td>\n",
       "      <td>2021-09-06 10:36</td>\n",
       "      <td>Y</td>\n",
       "    </tr>\n",
       "    <tr>\n",
       "      <th>2</th>\n",
       "      <td>82655</td>\n",
       "      <td>2021-09-05</td>\n",
       "      <td>NaN</td>\n",
       "      <td>NaN</td>\n",
       "      <td>NaN</td>\n",
       "      <td>타시도</td>\n",
       "      <td>NaN</td>\n",
       "      <td>기타 확진자 접촉</td>\n",
       "      <td>NaN</td>\n",
       "      <td>-</td>\n",
       "      <td>NaN</td>\n",
       "      <td>2021-09-06 10:36</td>\n",
       "      <td>2021-09-06 10:36</td>\n",
       "      <td>Y</td>\n",
       "    </tr>\n",
       "    <tr>\n",
       "      <th>3</th>\n",
       "      <td>82654</td>\n",
       "      <td>2021-09-05</td>\n",
       "      <td>NaN</td>\n",
       "      <td>NaN</td>\n",
       "      <td>NaN</td>\n",
       "      <td>타시도</td>\n",
       "      <td>NaN</td>\n",
       "      <td>기타 확진자 접촉</td>\n",
       "      <td>NaN</td>\n",
       "      <td>-</td>\n",
       "      <td>NaN</td>\n",
       "      <td>2021-09-06 10:36</td>\n",
       "      <td>2021-09-06 10:36</td>\n",
       "      <td>Y</td>\n",
       "    </tr>\n",
       "    <tr>\n",
       "      <th>4</th>\n",
       "      <td>82653</td>\n",
       "      <td>2021-09-05</td>\n",
       "      <td>NaN</td>\n",
       "      <td>NaN</td>\n",
       "      <td>NaN</td>\n",
       "      <td>타시도</td>\n",
       "      <td>NaN</td>\n",
       "      <td>기타 확진자 접촉</td>\n",
       "      <td>NaN</td>\n",
       "      <td>-</td>\n",
       "      <td>NaN</td>\n",
       "      <td>2021-09-06 10:36</td>\n",
       "      <td>2021-09-06 10:36</td>\n",
       "      <td>Y</td>\n",
       "    </tr>\n",
       "  </tbody>\n",
       "</table>\n",
       "</div>"
      ],
      "text/plain": [
       "      연번         확진일  환자번호  국적  환자정보    지역  여행력         접촉력  조치사항 상태  이동경로  \\\n",
       "0  82657  2021-09-05   NaN NaN   NaN  영등포구  NaN    감염경로 조사중   NaN  -   NaN   \n",
       "1  82656  2021-09-05   NaN NaN   NaN  서대문구  NaN  타시도 확진자 접촉   NaN  -   NaN   \n",
       "2  82655  2021-09-05   NaN NaN   NaN   타시도  NaN   기타 확진자 접촉   NaN  -   NaN   \n",
       "3  82654  2021-09-05   NaN NaN   NaN   타시도  NaN   기타 확진자 접촉   NaN  -   NaN   \n",
       "4  82653  2021-09-05   NaN NaN   NaN   타시도  NaN   기타 확진자 접촉   NaN  -   NaN   \n",
       "\n",
       "                등록일               수정일 노출여부  \n",
       "0  2021-09-06 10:36  2021-09-06 10:36    Y  \n",
       "1  2021-09-06 10:36  2021-09-06 10:36    Y  \n",
       "2  2021-09-06 10:36  2021-09-06 10:36    Y  \n",
       "3  2021-09-06 10:36  2021-09-06 10:36    Y  \n",
       "4  2021-09-06 10:36  2021-09-06 10:36    Y  "
      ]
     },
     "execution_count": 41,
     "metadata": {},
     "output_type": "execute_result"
    }
   ],
   "source": [
    "# head() 함수를 이용해 상위 5개 데이터를 출력.\n",
    "corona_all.head()"
   ]
  },
  {
   "cell_type": "code",
   "execution_count": 42,
   "id": "ce65af6d",
   "metadata": {},
   "outputs": [
    {
     "name": "stdout",
     "output_type": "stream",
     "text": [
      "<class 'pandas.core.frame.DataFrame'>\n",
      "RangeIndex: 63016 entries, 0 to 63015\n",
      "Data columns (total 14 columns):\n",
      " #   Column  Non-Null Count  Dtype  \n",
      "---  ------  --------------  -----  \n",
      " 0   연번      63016 non-null  int64  \n",
      " 1   확진일     63016 non-null  object \n",
      " 2   환자번호    0 non-null      float64\n",
      " 3   국적      0 non-null      float64\n",
      " 4   환자정보    0 non-null      float64\n",
      " 5   지역      63016 non-null  object \n",
      " 6   여행력     970 non-null    object \n",
      " 7   접촉력     63016 non-null  object \n",
      " 8   조치사항    0 non-null      float64\n",
      " 9   상태      63016 non-null  object \n",
      " 10  이동경로    0 non-null      float64\n",
      " 11  등록일     63016 non-null  object \n",
      " 12  수정일     63016 non-null  object \n",
      " 13  노출여부    63016 non-null  object \n",
      "dtypes: float64(5), int64(1), object(8)\n",
      "memory usage: 6.7+ MB\n"
     ]
    }
   ],
   "source": [
    "# dataframe 정보를 요약하여 출력. \n",
    "corona_all.info()"
   ]
  },
  {
   "cell_type": "markdown",
   "id": "9db35942",
   "metadata": {},
   "source": [
    "---"
   ]
  },
  {
   "cell_type": "markdown",
   "id": "39146e1c",
   "metadata": {},
   "source": [
    "## 2. 데이터 정제"
   ]
  },
  {
   "cell_type": "markdown",
   "id": "17f8ec45",
   "metadata": {},
   "source": [
    "결측값(missing data), 이상치(outlier)를 처리하는 데이터 정제 과정을 수행하기."
   ]
  },
  {
   "cell_type": "markdown",
   "id": "8b123a33",
   "metadata": {},
   "source": [
    "### 2.1. 비어있는 column 지우기"
   ]
  },
  {
   "cell_type": "markdown",
   "id": "8755b10b",
   "metadata": {},
   "source": [
    "corona_all.info() 코드를 통하여 `환자번호`, `국적`, `환자정보`, `조치사항`, `이동경로` 에 해당하는 데이터가 존재하지 않는 것을 확인.\n",
    "\n",
    "dataframe.drop()를 사용하여 불필요한 column 데이터를 삭제하고 이 dataframe을 covid_delete_col에 저장."
   ]
  },
  {
   "cell_type": "code",
   "execution_count": 43,
   "id": "01fc281e",
   "metadata": {},
   "outputs": [],
   "source": [
    "# drop 함수를 사용하여 불필요한 coulmn 데이터를 삭제.\n",
    "covid_delete_col = corona_all.drop(columns = ['환자번호','국적','환자정보','조치사항','이동경로'])"
   ]
  },
  {
   "cell_type": "code",
   "execution_count": 44,
   "id": "759c3e90",
   "metadata": {},
   "outputs": [
    {
     "name": "stdout",
     "output_type": "stream",
     "text": [
      "<class 'pandas.core.frame.DataFrame'>\n",
      "RangeIndex: 63016 entries, 0 to 63015\n",
      "Data columns (total 9 columns):\n",
      " #   Column  Non-Null Count  Dtype \n",
      "---  ------  --------------  ----- \n",
      " 0   연번      63016 non-null  int64 \n",
      " 1   확진일     63016 non-null  object\n",
      " 2   지역      63016 non-null  object\n",
      " 3   여행력     970 non-null    object\n",
      " 4   접촉력     63016 non-null  object\n",
      " 5   상태      63016 non-null  object\n",
      " 6   등록일     63016 non-null  object\n",
      " 7   수정일     63016 non-null  object\n",
      " 8   노출여부    63016 non-null  object\n",
      "dtypes: int64(1), object(8)\n",
      "memory usage: 4.3+ MB\n"
     ]
    }
   ],
   "source": [
    "covid_delete_col.info()"
   ]
  },
  {
   "cell_type": "markdown",
   "id": "22da48aa",
   "metadata": {},
   "source": [
    "---"
   ]
  },
  {
   "cell_type": "markdown",
   "id": "b73a42b5",
   "metadata": {
    "id": "2CFELljJwUBp"
   },
   "source": [
    "## 3. 데이터 시각화"
   ]
  },
  {
   "cell_type": "markdown",
   "id": "2438958c",
   "metadata": {},
   "source": [
    "데이터 정제를 완료한 covid_delete_col 데이터를 통하여, 각 column의 변수별로 어떠한 데이터 분포를 하고 있는지 시각화."
   ]
  },
  {
   "cell_type": "markdown",
   "id": "2b358ac8",
   "metadata": {},
   "source": [
    "### 3.1. 확진일 데이터 전처리하기"
   ]
  },
  {
   "cell_type": "markdown",
   "id": "32119ea3",
   "metadata": {},
   "source": [
    "`확진일` 데이터를 간단히 출력해보면 `년-월-일` 형태의 날짜 형식임을 알 수 있다.\n",
    "\n",
    "문자열 형식의 데이터를 나누어 숫자 형 데이터로 변환해야 한다."
   ]
  },
  {
   "cell_type": "code",
   "execution_count": 45,
   "id": "8aa7d599",
   "metadata": {},
   "outputs": [
    {
     "data": {
      "text/plain": [
       "0        2021-09-05\n",
       "1        2021-09-05\n",
       "2        2021-09-05\n",
       "3        2021-09-05\n",
       "4        2021-09-05\n",
       "            ...    \n",
       "63011    2021-01-02\n",
       "63012    2021-01-02\n",
       "63013    2021-01-02\n",
       "63014    2021-01-02\n",
       "63015    2021-01-02\n",
       "Name: 확진일, Length: 63016, dtype: object"
      ]
     },
     "execution_count": 45,
     "metadata": {},
     "output_type": "execute_result"
    }
   ],
   "source": [
    "covid_delete_col['확진일']"
   ]
  },
  {
   "cell_type": "markdown",
   "id": "cf3e7c7c",
   "metadata": {},
   "source": [
    "#### `확진일` 데이터를 `year`,`month`, `day` 데이터로 나누기"
   ]
  },
  {
   "cell_type": "markdown",
   "id": "9f43c31b",
   "metadata": {},
   "source": [
    "`확진일`에 저장된 문자열 데이터를 나누어 `year`,`month`, `day` column에 int64 형태로 저장."
   ]
  },
  {
   "cell_type": "code",
   "execution_count": 46,
   "id": "4172b72d",
   "metadata": {},
   "outputs": [],
   "source": [
    "# dataframe에 추가하기 전, 임시로 데이터를 저장해 둘 list를 선언.\n",
    "year = []\n",
    "month = []\n",
    "day = []\n",
    "\n",
    "for data in covid_delete_col['확진일']:\n",
    "    \n",
    "    # split 함수를 사용하여 년, 월, 일로 나누어 list에 저장.\n",
    "    year.append(data.split('-')[0])\n",
    "    month.append(data.split('-')[1])\n",
    "    day.append(data.split('-')[2])"
   ]
  },
  {
   "cell_type": "code",
   "execution_count": 47,
   "id": "06e7993e",
   "metadata": {},
   "outputs": [
    {
     "data": {
      "text/plain": [
       "0        9\n",
       "1        9\n",
       "2        9\n",
       "3        9\n",
       "4        9\n",
       "        ..\n",
       "63011    1\n",
       "63012    1\n",
       "63013    1\n",
       "63014    1\n",
       "63015    1\n",
       "Name: month, Length: 63016, dtype: int64"
      ]
     },
     "execution_count": 47,
     "metadata": {},
     "output_type": "execute_result"
    }
   ],
   "source": [
    "# covid_delete_col에 `year`,`month`, `day` column을 생성 + list에 임시 저장된 데이터를 입력.\n",
    "\n",
    "covid_delete_col['year'] = year\n",
    "covid_delete_col['month'] = month\n",
    "covid_delete_col['day'] = day\n",
    "\n",
    "covid_delete_col['year'].astype('int64')\n",
    "covid_delete_col['day'].astype('int64')\n",
    "covid_delete_col['month'].astype('int64')"
   ]
  },
  {
   "cell_type": "markdown",
   "id": "2adeb68a",
   "metadata": {},
   "source": [
    "### 3.2. 월별 확진자 수 출력"
   ]
  },
  {
   "cell_type": "markdown",
   "id": "0cbc51f0",
   "metadata": {},
   "source": [
    "나누어진 `month`의 데이터를 바탕으로 달별 확진자 수를 막대그래프로 출력해 보겠습니다."
   ]
  },
  {
   "cell_type": "code",
   "execution_count": 48,
   "id": "90def3fd",
   "metadata": {},
   "outputs": [
    {
     "data": {
      "text/plain": [
       "[1, 2, 3, 4, 5, 6, 7, 8, 9]"
      ]
     },
     "execution_count": 48,
     "metadata": {},
     "output_type": "execute_result"
    }
   ],
   "source": [
    "# 그래프의 x축의 순서를 정리하기 위하여 order list를 생성.\n",
    "\n",
    "xorder = []\n",
    "for i in range(1,10):\n",
    "    xorder.append(i)\n",
    "    \n",
    "xorder"
   ]
  },
  {
   "cell_type": "code",
   "execution_count": 49,
   "id": "ac1b813d",
   "metadata": {},
   "outputs": [
    {
     "data": {
      "image/png": "[encoded data removed]",
      "text/plain": [
       "<Figure size 720x360 with 1 Axes>"
      ]
     },
     "metadata": {},
     "output_type": "display_data"
    }
   ],
   "source": [
    "import matplotlib.pyplot as plt\n",
    "import seaborn as sns\n",
    "\n",
    "# 그래프의 사이즈를 조절.\n",
    "plt.figure(figsize=(10,5))\n",
    "\n",
    "# seaborn의 countplot 함수를 사용하여 출력.\n",
    "sns.set(style=\"darkgrid\")\n",
    "ax = sns.countplot(x=\"month\", data=covid_delete_col, palette=\"Set2\", order = xorder)"
   ]
  },
  {
   "cell_type": "code",
   "execution_count": 50,
   "id": "de77a284",
   "metadata": {},
   "outputs": [
    {
     "data": {
      "text/plain": [
       "<AxesSubplot:>"
      ]
     },
     "execution_count": 50,
     "metadata": {},
     "output_type": "execute_result"
    },
    {
     "data": {
      "image/png": "[encoded data removed]",
      "text/plain": [
       "<Figure size 432x288 with 1 Axes>"
      ]
     },
     "metadata": {},
     "output_type": "display_data"
    }
   ],
   "source": [
    "# series의 plot 함수를 사용한 출력 방법도 있다.\n",
    "covid_delete_col['month'].value_counts().plot(kind='bar')"
   ]
  },
  {
   "cell_type": "code",
   "execution_count": 51,
   "id": "124dd328",
   "metadata": {},
   "outputs": [
    {
     "data": {
      "text/plain": [
       "08    15195\n",
       "07    14504\n",
       "06     6258\n",
       "05     6030\n",
       "04     5803\n",
       "01     4634\n",
       "02     4060\n",
       "03     3897\n",
       "09     2635\n",
       "Name: month, dtype: int64"
      ]
     },
     "execution_count": 51,
     "metadata": {},
     "output_type": "execute_result"
    }
   ],
   "source": [
    "# value_counts()는 각 데이터를 세어서 내림차순으로 정리하는 함수입니다.\n",
    "covid_delete_col['month'].value_counts()"
   ]
  },
  {
   "cell_type": "markdown",
   "id": "fe0465ff",
   "metadata": {},
   "source": [
    "### 3.3. 8월달 일별 확진자 수 출력"
   ]
  },
  {
   "cell_type": "markdown",
   "id": "fe667bd0",
   "metadata": {},
   "source": [
    "월별 확진자 수를 출력해보면 알 수 있듯이 8월에 확진자 수가 가장 많았습니다.\n",
    "\n",
    "이번엔 8월 동안 확진자 수가 어떻게 늘었는지 일별 확진자 수를 막대그래프로 출력해 봅시다"
   ]
  },
  {
   "cell_type": "code",
   "execution_count": 52,
   "id": "137b25f0",
   "metadata": {},
   "outputs": [
    {
     "data": {
      "text/plain": [
       "[1,\n",
       " 2,\n",
       " 3,\n",
       " 4,\n",
       " 5,\n",
       " 6,\n",
       " 7,\n",
       " 8,\n",
       " 9,\n",
       " 10,\n",
       " 11,\n",
       " 12,\n",
       " 13,\n",
       " 14,\n",
       " 15,\n",
       " 16,\n",
       " 17,\n",
       " 18,\n",
       " 19,\n",
       " 20,\n",
       " 21,\n",
       " 22,\n",
       " 23,\n",
       " 24,\n",
       " 25,\n",
       " 26,\n",
       " 27,\n",
       " 28,\n",
       " 29,\n",
       " 30,\n",
       " 31]"
      ]
     },
     "execution_count": 52,
     "metadata": {},
     "output_type": "execute_result"
    }
   ],
   "source": [
    "# 그래프에서 x축의 순서를 정리하기 위하여 order list를 생성합니다.\n",
    "xorder2 = []\n",
    "for i in range(1,32):\n",
    "    \n",
    "    xorder2.append(i)\n",
    "\n",
    "xorder2"
   ]
  },
  {
   "cell_type": "code",
   "execution_count": 53,
   "id": "cd1ce5a5",
   "metadata": {},
   "outputs": [
    {
     "data": {
      "image/png": "[encoded data removed]",
      "text/plain": [
       "<Figure size 1440x720 with 1 Axes>"
      ]
     },
     "metadata": {},
     "output_type": "display_data"
    }
   ],
   "source": [
    "# seaborn의 countplot 함수를 사용하여 출력합니다.\n",
    "plt.figure(figsize=(20,10))\n",
    "sns.set(style=\"darkgrid\")\n",
    "ax = sns.countplot(x=\"day\", data=covid_delete_col[covid_delete_col['month'] == '8'], palette=\"rocket_r\", order = xorder2)"
   ]
  },
  {
   "cell_type": "markdown",
   "id": "855939e2",
   "metadata": {
    "id": "CFeexAklwUBt"
   },
   "source": [
    "### 3.4. 지역별 확진자 수 출력"
   ]
  },
  {
   "cell_type": "markdown",
   "id": "55508eb8",
   "metadata": {
    "id": "lfcwtG2vwUBt"
   },
   "source": [
    "`지역` 데이터를 간단히 출력해보면 `oo구` 형태의 문자열 데이터임을 알 수 있습니다."
   ]
  },
  {
   "cell_type": "code",
   "execution_count": 54,
   "id": "0ddfce86",
   "metadata": {},
   "outputs": [
    {
     "data": {
      "text/plain": [
       "0        영등포구\n",
       "1        서대문구\n",
       "2         타시도\n",
       "3         타시도\n",
       "4         타시도\n",
       "         ... \n",
       "63011     동작구\n",
       "63012     타시도\n",
       "63013     타시도\n",
       "63014     광진구\n",
       "63015     용산구\n",
       "Name: 지역, Length: 63016, dtype: object"
      ]
     },
     "execution_count": 54,
     "metadata": {},
     "output_type": "execute_result"
    }
   ],
   "source": [
    "covid_delete_col['지역']"
   ]
  },
  {
   "cell_type": "markdown",
   "id": "6de0ac53",
   "metadata": {
    "id": "tM5mk2V9wUBu"
   },
   "source": [
    "이번에는 지역별로 확진자가 얼마나 있는지 막대그래프로 출력해 봅시다."
   ]
  },
  {
   "cell_type": "code",
   "execution_count": 55,
   "id": "33bc1ac1",
   "metadata": {},
   "outputs": [],
   "source": [
    "import matplotlib.font_manager as fm\n",
    "\n",
    "font_dirs = ['/usr/share/fonts/truetype/nanum', ]\n",
    "font_files = fm.findSystemFonts(fontpaths=font_dirs)\n",
    "\n",
    "for font_file in font_files:\n",
    "    fm.fontManager.addfont(font_file)"
   ]
  },
  {
   "cell_type": "code",
   "execution_count": 56,
   "id": "093439ee",
   "metadata": {},
   "outputs": [
    {
     "data": {
      "image/png": "[encoded data removed]",
      "text/plain": [
       "<Figure size 2880x720 with 1 Axes>"
      ]
     },
     "metadata": {},
     "output_type": "display_data"
    }
   ],
   "source": [
    "plt.figure(figsize=(40,10))\n",
    "plt.rcParams['font.family'] = 'AppleGothic'\n",
    "\n",
    "# 한글 출력을 위해서 폰트 옵션을 설정합니다.\n",
    "sns.set(font=\"AppleGothic\", \n",
    "        rc={\"axes.unicode_minus\":False},\n",
    "        style='darkgrid')\n",
    "\n",
    "ax = sns.countplot(x=\"지역\", data=covid_delete_col, palette=\"Set2\")"
   ]
  },
  {
   "cell_type": "code",
   "execution_count": null,
   "id": "4a79eb9b",
   "metadata": {},
   "outputs": [],
   "source": []
  },
  {
   "cell_type": "code",
   "execution_count": null,
   "id": "152ce54b",
   "metadata": {},
   "outputs": [],
   "source": []
  },
  {
   "cell_type": "code",
   "execution_count": null,
   "id": "805674c5",
   "metadata": {},
   "outputs": [],
   "source": []
  }
 ],
 "metadata": {
  "kernelspec": {
   "display_name": "Python 3",
   "language": "python",
   "name": "python3"
  },
  "language_info": {
   "codemirror_mode": {
    "name": "ipython",
    "version": 3
   },
   "file_extension": ".py",
   "mimetype": "text/x-python",
   "name": "python",
   "nbconvert_exporter": "python",
   "pygments_lexer": "ipython3",
   "version": "3.8.8"
  }
 },
 "nbformat": 4,
 "nbformat_minor": 5
}
