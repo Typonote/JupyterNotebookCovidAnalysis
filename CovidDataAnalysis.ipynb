{
 "cells": [
  {
   "cell_type": "code",
   "execution_count": null,
   "id": "2c54ebac",
   "metadata": {},
   "outputs": [],
   "source": [
    "#2021년 코로나 Data 분석하기 (2021년 1월 ~ 2021년 9월 6일 까지의 data 분석)"
   ]
  },
  {
   "cell_type": "markdown",
   "id": "f2785aa0",
   "metadata": {},
   "source": [
    "## 프로젝트 목표\n",
    "- 2021년 서울시 코로나19 확진자 현황 데이터를 분석하여 유의미한 정보 도출\n",
    "- matplotlib을 다루는 법 학습"
   ]
  },
  {
   "cell_type": "markdown",
   "id": "849d1557",
   "metadata": {},
   "source": [
    "## 데이터 출처\n",
    "-  https://www.data.go.kr/tcs/dss/selectFileDataDetailView.do?publicDataPk=15063273\n",
    "-  http://data.seoul.go.kr/dataList/OA-20279/S/1/datasetView.do"
   ]
  },
  {
   "cell_type": "markdown",
   "id": "1be95dfd",
   "metadata": {},
   "source": [
    "## 1. 데이터 읽기\n",
    "필요한 패키지 설치 및 `import`한 후 `pandas`를 사용하여 데이터를 읽고 어떠한 데이터가 저장되어 있는지 확인."
   ]
  },
  {
   "cell_type": "markdown",
   "id": "9173351d",
   "metadata": {},
   "source": [
    "### 1.1. 데이터 불러오기"
   ]
  },
  {
   "cell_type": "code",
   "execution_count": 3,
   "id": "82b05380",
   "metadata": {},
   "outputs": [],
   "source": [
    "import numpy as np \n",
    "import pandas as pd \n",
    "import matplotlib.pyplot as plt\n",
    "import seaborn as sns"
   ]
  },
  {
   "cell_type": "code",
   "execution_count": 4,
   "id": "26c17e55",
   "metadata": {},
   "outputs": [],
   "source": [
    "# pd.read_csv를 통하여 dataframe 형태로 csv 파일 읽기.\n",
    "corona_all=pd.read_csv(\"./data/서울시 코로나19 확진자 현황.csv\")"
   ]
  },
  {
   "cell_type": "code",
   "execution_count": 5,
   "id": "69ac69ed",
   "metadata": {},
   "outputs": [
    {
     "data": {
      "text/html": [
       "<div>\n",
       "<style scoped>\n",
       "    .dataframe tbody tr th:only-of-type {\n",
       "        vertical-align: middle;\n",
       "    }\n",
       "\n",
       "    .dataframe tbody tr th {\n",
       "        vertical-align: top;\n",
       "    }\n",
       "\n",
       "    .dataframe thead th {\n",
       "        text-align: right;\n",
       "    }\n",
       "</style>\n",
       "<table border=\"1\" class=\"dataframe\">\n",
       "  <thead>\n",
       "    <tr style=\"text-align: right;\">\n",
       "      <th></th>\n",
       "      <th>연번</th>\n",
       "      <th>확진일</th>\n",
       "      <th>환자번호</th>\n",
       "      <th>국적</th>\n",
       "      <th>환자정보</th>\n",
       "      <th>지역</th>\n",
       "      <th>여행력</th>\n",
       "      <th>접촉력</th>\n",
       "      <th>조치사항</th>\n",
       "      <th>상태</th>\n",
       "      <th>이동경로</th>\n",
       "      <th>등록일</th>\n",
       "      <th>수정일</th>\n",
       "      <th>노출여부</th>\n",
       "    </tr>\n",
       "  </thead>\n",
       "  <tbody>\n",
       "    <tr>\n",
       "      <th>0</th>\n",
       "      <td>82657</td>\n",
       "      <td>2021-09-05</td>\n",
       "      <td>NaN</td>\n",
       "      <td>NaN</td>\n",
       "      <td>NaN</td>\n",
       "      <td>영등포구</td>\n",
       "      <td>NaN</td>\n",
       "      <td>감염경로 조사중</td>\n",
       "      <td>NaN</td>\n",
       "      <td>-</td>\n",
       "      <td>NaN</td>\n",
       "      <td>2021-09-06 10:36</td>\n",
       "      <td>2021-09-06 10:36</td>\n",
       "      <td>Y</td>\n",
       "    </tr>\n",
       "    <tr>\n",
       "      <th>1</th>\n",
       "      <td>82656</td>\n",
       "      <td>2021-09-05</td>\n",
       "      <td>NaN</td>\n",
       "      <td>NaN</td>\n",
       "      <td>NaN</td>\n",
       "      <td>서대문구</td>\n",
       "      <td>NaN</td>\n",
       "      <td>타시도 확진자 접촉</td>\n",
       "      <td>NaN</td>\n",
       "      <td>-</td>\n",
       "      <td>NaN</td>\n",
       "      <td>2021-09-06 10:36</td>\n",
       "      <td>2021-09-06 10:36</td>\n",
       "      <td>Y</td>\n",
       "    </tr>\n",
       "    <tr>\n",
       "      <th>2</th>\n",
       "      <td>82655</td>\n",
       "      <td>2021-09-05</td>\n",
       "      <td>NaN</td>\n",
       "      <td>NaN</td>\n",
       "      <td>NaN</td>\n",
       "      <td>타시도</td>\n",
       "      <td>NaN</td>\n",
       "      <td>기타 확진자 접촉</td>\n",
       "      <td>NaN</td>\n",
       "      <td>-</td>\n",
       "      <td>NaN</td>\n",
       "      <td>2021-09-06 10:36</td>\n",
       "      <td>2021-09-06 10:36</td>\n",
       "      <td>Y</td>\n",
       "    </tr>\n",
       "    <tr>\n",
       "      <th>3</th>\n",
       "      <td>82654</td>\n",
       "      <td>2021-09-05</td>\n",
       "      <td>NaN</td>\n",
       "      <td>NaN</td>\n",
       "      <td>NaN</td>\n",
       "      <td>타시도</td>\n",
       "      <td>NaN</td>\n",
       "      <td>기타 확진자 접촉</td>\n",
       "      <td>NaN</td>\n",
       "      <td>-</td>\n",
       "      <td>NaN</td>\n",
       "      <td>2021-09-06 10:36</td>\n",
       "      <td>2021-09-06 10:36</td>\n",
       "      <td>Y</td>\n",
       "    </tr>\n",
       "    <tr>\n",
       "      <th>4</th>\n",
       "      <td>82653</td>\n",
       "      <td>2021-09-05</td>\n",
       "      <td>NaN</td>\n",
       "      <td>NaN</td>\n",
       "      <td>NaN</td>\n",
       "      <td>타시도</td>\n",
       "      <td>NaN</td>\n",
       "      <td>기타 확진자 접촉</td>\n",
       "      <td>NaN</td>\n",
       "      <td>-</td>\n",
       "      <td>NaN</td>\n",
       "      <td>2021-09-06 10:36</td>\n",
       "      <td>2021-09-06 10:36</td>\n",
       "      <td>Y</td>\n",
       "    </tr>\n",
       "  </tbody>\n",
       "</table>\n",
       "</div>"
      ],
      "text/plain": [
       "      연번         확진일  환자번호  국적  환자정보    지역  여행력         접촉력  조치사항 상태  이동경로  \\\n",
       "0  82657  2021-09-05   NaN NaN   NaN  영등포구  NaN    감염경로 조사중   NaN  -   NaN   \n",
       "1  82656  2021-09-05   NaN NaN   NaN  서대문구  NaN  타시도 확진자 접촉   NaN  -   NaN   \n",
       "2  82655  2021-09-05   NaN NaN   NaN   타시도  NaN   기타 확진자 접촉   NaN  -   NaN   \n",
       "3  82654  2021-09-05   NaN NaN   NaN   타시도  NaN   기타 확진자 접촉   NaN  -   NaN   \n",
       "4  82653  2021-09-05   NaN NaN   NaN   타시도  NaN   기타 확진자 접촉   NaN  -   NaN   \n",
       "\n",
       "                등록일               수정일 노출여부  \n",
       "0  2021-09-06 10:36  2021-09-06 10:36    Y  \n",
       "1  2021-09-06 10:36  2021-09-06 10:36    Y  \n",
       "2  2021-09-06 10:36  2021-09-06 10:36    Y  \n",
       "3  2021-09-06 10:36  2021-09-06 10:36    Y  \n",
       "4  2021-09-06 10:36  2021-09-06 10:36    Y  "
      ]
     },
     "execution_count": 5,
     "metadata": {},
     "output_type": "execute_result"
    }
   ],
   "source": [
    "# head() 함수를 이용해 상위 5개 데이터를 출력.\n",
    "corona_all.head()"
   ]
  },
  {
   "cell_type": "code",
   "execution_count": 6,
   "id": "ce65af6d",
   "metadata": {},
   "outputs": [
    {
     "name": "stdout",
     "output_type": "stream",
     "text": [
      "<class 'pandas.core.frame.DataFrame'>\n",
      "RangeIndex: 63016 entries, 0 to 63015\n",
      "Data columns (total 14 columns):\n",
      " #   Column  Non-Null Count  Dtype  \n",
      "---  ------  --------------  -----  \n",
      " 0   연번      63016 non-null  int64  \n",
      " 1   확진일     63016 non-null  object \n",
      " 2   환자번호    0 non-null      float64\n",
      " 3   국적      0 non-null      float64\n",
      " 4   환자정보    0 non-null      float64\n",
      " 5   지역      63016 non-null  object \n",
      " 6   여행력     970 non-null    object \n",
      " 7   접촉력     63016 non-null  object \n",
      " 8   조치사항    0 non-null      float64\n",
      " 9   상태      63016 non-null  object \n",
      " 10  이동경로    0 non-null      float64\n",
      " 11  등록일     63016 non-null  object \n",
      " 12  수정일     63016 non-null  object \n",
      " 13  노출여부    63016 non-null  object \n",
      "dtypes: float64(5), int64(1), object(8)\n",
      "memory usage: 6.7+ MB\n"
     ]
    }
   ],
   "source": [
    "# dataframe 정보를 요약하여 출력. \n",
    "corona_all.info()"
   ]
  },
  {
   "cell_type": "markdown",
   "id": "9db35942",
   "metadata": {},
   "source": [
    "---"
   ]
  },
  {
   "cell_type": "markdown",
   "id": "39146e1c",
   "metadata": {},
   "source": [
    "## 2. 데이터 정제"
   ]
  },
  {
   "cell_type": "markdown",
   "id": "17f8ec45",
   "metadata": {},
   "source": [
    "결측값(missing data), 이상치(outlier)를 처리하는 데이터 정제 과정을 수행하기."
   ]
  },
  {
   "cell_type": "markdown",
   "id": "8b123a33",
   "metadata": {},
   "source": [
    "### 2.1. 비어있는 column 지우기"
   ]
  },
  {
   "cell_type": "markdown",
   "id": "8755b10b",
   "metadata": {},
   "source": [
    "corona_all.info() 코드를 통하여 `환자번호`, `국적`, `환자정보`, `조치사항`, `이동경로` 에 해당하는 데이터가 존재하지 않는 것을 확인.\n",
    "\n",
    "dataframe.drop()를 사용하여 불필요한 column 데이터를 삭제하고 이 dataframe을 covid_delete_col에 저장."
   ]
  },
  {
   "cell_type": "code",
   "execution_count": 7,
   "id": "01fc281e",
   "metadata": {},
   "outputs": [],
   "source": [
    "# drop 함수를 사용하여 불필요한 coulmn 데이터를 삭제.\n",
    "covid_delete_col = corona_all.drop(columns = ['환자번호','국적','환자정보','조치사항','이동경로'])"
   ]
  },
  {
   "cell_type": "code",
   "execution_count": 8,
   "id": "759c3e90",
   "metadata": {},
   "outputs": [
    {
     "name": "stdout",
     "output_type": "stream",
     "text": [
      "<class 'pandas.core.frame.DataFrame'>\n",
      "RangeIndex: 63016 entries, 0 to 63015\n",
      "Data columns (total 9 columns):\n",
      " #   Column  Non-Null Count  Dtype \n",
      "---  ------  --------------  ----- \n",
      " 0   연번      63016 non-null  int64 \n",
      " 1   확진일     63016 non-null  object\n",
      " 2   지역      63016 non-null  object\n",
      " 3   여행력     970 non-null    object\n",
      " 4   접촉력     63016 non-null  object\n",
      " 5   상태      63016 non-null  object\n",
      " 6   등록일     63016 non-null  object\n",
      " 7   수정일     63016 non-null  object\n",
      " 8   노출여부    63016 non-null  object\n",
      "dtypes: int64(1), object(8)\n",
      "memory usage: 4.3+ MB\n"
     ]
    }
   ],
   "source": [
    "covid_delete_col.info()"
   ]
  },
  {
   "cell_type": "markdown",
   "id": "22da48aa",
   "metadata": {},
   "source": [
    "---"
   ]
  },
  {
   "cell_type": "markdown",
   "id": "b73a42b5",
   "metadata": {
    "id": "2CFELljJwUBp"
   },
   "source": [
    "## 3. 데이터 시각화"
   ]
  },
  {
   "cell_type": "markdown",
   "id": "2438958c",
   "metadata": {},
   "source": [
    "데이터 정제를 완료한 covid_delete_col 데이터를 통하여, 각 column의 변수별로 어떠한 데이터 분포를 하고 있는지 시각화."
   ]
  },
  {
   "cell_type": "markdown",
   "id": "2b358ac8",
   "metadata": {},
   "source": [
    "### 3.1. 확진일 데이터 전처리하기"
   ]
  },
  {
   "cell_type": "markdown",
   "id": "32119ea3",
   "metadata": {},
   "source": [
    "`확진일` 데이터를 간단히 출력해보면 `년-월-일` 형태의 날짜 형식임을 알 수 있다.\n",
    "\n",
    "문자열 형식의 데이터를 나누어 숫자 형 데이터로 변환해야 한다."
   ]
  },
  {
   "cell_type": "code",
   "execution_count": 9,
   "id": "8aa7d599",
   "metadata": {},
   "outputs": [
    {
     "data": {
      "text/plain": [
       "0        2021-09-05\n",
       "1        2021-09-05\n",
       "2        2021-09-05\n",
       "3        2021-09-05\n",
       "4        2021-09-05\n",
       "            ...    \n",
       "63011    2021-01-02\n",
       "63012    2021-01-02\n",
       "63013    2021-01-02\n",
       "63014    2021-01-02\n",
       "63015    2021-01-02\n",
       "Name: 확진일, Length: 63016, dtype: object"
      ]
     },
     "execution_count": 9,
     "metadata": {},
     "output_type": "execute_result"
    }
   ],
   "source": [
    "covid_delete_col['확진일']"
   ]
  },
  {
   "cell_type": "markdown",
   "id": "cf3e7c7c",
   "metadata": {},
   "source": [
    "#### `확진일` 데이터를 `year`,`month`, `day` 데이터로 나누기"
   ]
  },
  {
   "cell_type": "markdown",
   "id": "9f43c31b",
   "metadata": {},
   "source": [
    "`확진일`에 저장된 문자열 데이터를 나누어 `year`,`month`, `day` column에 int64 형태로 저장."
   ]
  },
  {
   "cell_type": "code",
   "execution_count": 10,
   "id": "4172b72d",
   "metadata": {},
   "outputs": [],
   "source": [
    "# dataframe에 추가하기 전, 임시로 데이터를 저장해 둘 list를 선언.\n",
    "year = []\n",
    "month = []\n",
    "day = []\n",
    "\n",
    "for data in covid_delete_col['확진일']:\n",
    "    \n",
    "    # split 함수를 사용하여 년, 월, 일로 나누어 list에 저장.\n",
    "    year.append(data.split('-')[0])\n",
    "    month.append(data.split('-')[1])\n",
    "    day.append(data.split('-')[2])"
   ]
  },
  {
   "cell_type": "code",
   "execution_count": 11,
   "id": "06e7993e",
   "metadata": {},
   "outputs": [
    {
     "data": {
      "text/plain": [
       "0        9\n",
       "1        9\n",
       "2        9\n",
       "3        9\n",
       "4        9\n",
       "        ..\n",
       "63011    1\n",
       "63012    1\n",
       "63013    1\n",
       "63014    1\n",
       "63015    1\n",
       "Name: month, Length: 63016, dtype: int64"
      ]
     },
     "execution_count": 11,
     "metadata": {},
     "output_type": "execute_result"
    }
   ],
   "source": [
    "# covid_delete_col에 `year`,`month`, `day` column을 생성 + list에 임시 저장된 데이터를 입력.\n",
    "\n",
    "covid_delete_col['year'] = year\n",
    "covid_delete_col['month'] = month\n",
    "covid_delete_col['day'] = day\n",
    "\n",
    "covid_delete_col['year'].astype('int64')\n",
    "covid_delete_col['day'].astype('int64')\n",
    "covid_delete_col['month'].astype('int64')"
   ]
  },
  {
   "cell_type": "markdown",
   "id": "2adeb68a",
   "metadata": {},
   "source": [
    "### 3.2. 월별 확진자 수 출력"
   ]
  },
  {
   "cell_type": "markdown",
   "id": "0cbc51f0",
   "metadata": {},
   "source": [
    "나누어진 `month`의 데이터를 바탕으로 달별 확진자 수를 막대그래프로 출력해 보겠습니다."
   ]
  },
  {
   "cell_type": "code",
   "execution_count": 12,
   "id": "90def3fd",
   "metadata": {},
   "outputs": [
    {
     "data": {
      "text/plain": [
       "['01', '02', '03', '04', '05', '06', '07', '08', '09']"
      ]
     },
     "execution_count": 12,
     "metadata": {},
     "output_type": "execute_result"
    }
   ],
   "source": [
    "# 그래프의 x축의 순서를 정리하기 위하여 order list를 생성.\n",
    "\n",
    "xorder = ['01', '02', '03', '04', '05', '06', '07', '08', '09']    \n",
    "xorder"
   ]
  },
  {
   "cell_type": "code",
   "execution_count": 13,
   "id": "ac1b813d",
   "metadata": {},
   "outputs": [
    {
     "data": {
      "image/png": "[encoded data removed]",
      "text/plain": [
       "<Figure size 720x360 with 1 Axes>"
      ]
     },
     "metadata": {
      "needs_background": "light"
     },
     "output_type": "display_data"
    }
   ],
   "source": [
    "import matplotlib.pyplot as plt\n",
    "import seaborn as sns\n",
    "\n",
    "# 그래프의 사이즈를 조절.\n",
    "plt.figure(figsize=(10,5))\n",
    "\n",
    "# seaborn의 countplot 함수를 사용하여 출력.\n",
    "sns.set(style=\"darkgrid\")\n",
    "ax = sns.countplot(x=\"month\", data=covid_delete_col, palette=\"Set2\", order = xorder)"
   ]
  },
  {
   "cell_type": "code",
   "execution_count": 14,
   "id": "de77a284",
   "metadata": {},
   "outputs": [
    {
     "data": {
      "text/plain": [
       "<AxesSubplot:>"
      ]
     },
     "execution_count": 14,
     "metadata": {},
     "output_type": "execute_result"
    },
    {
     "data": {
      "image/png": "[encoded data removed]",
      "text/plain": [
       "<Figure size 432x288 with 1 Axes>"
      ]
     },
     "metadata": {},
     "output_type": "display_data"
    }
   ],
   "source": [
    "# series의 plot 함수를 사용한 출력 방법도 있다.\n",
    "covid_delete_col['month'].value_counts().plot(kind='bar')"
   ]
  },
  {
   "cell_type": "code",
   "execution_count": 15,
   "id": "124dd328",
   "metadata": {},
   "outputs": [
    {
     "data": {
      "text/plain": [
       "08    15195\n",
       "07    14504\n",
       "06     6258\n",
       "05     6030\n",
       "04     5803\n",
       "01     4634\n",
       "02     4060\n",
       "03     3897\n",
       "09     2635\n",
       "Name: month, dtype: int64"
      ]
     },
     "execution_count": 15,
     "metadata": {},
     "output_type": "execute_result"
    }
   ],
   "source": [
    "# value_counts()는 각 데이터를 세어서 내림차순으로 정리하는 함수입니다.\n",
    "covid_delete_col['month'].value_counts()"
   ]
  },
  {
   "cell_type": "markdown",
   "id": "fe0465ff",
   "metadata": {},
   "source": [
    "### 3.3. 8월달 일별 확진자 수 출력"
   ]
  },
  {
   "cell_type": "markdown",
   "id": "fe667bd0",
   "metadata": {},
   "source": [
    "월별 확진자 수를 출력해보면 알 수 있듯이 8월에 확진자 수가 가장 많았습니다.\n",
    "\n",
    "이번엔 8월 동안 확진자 수가 어떻게 늘었는지 일별 확진자 수를 막대그래프로 출력해 봅시다"
   ]
  },
  {
   "cell_type": "code",
   "execution_count": 16,
   "id": "137b25f0",
   "metadata": {},
   "outputs": [
    {
     "data": {
      "text/plain": [
       "['1',\n",
       " '2',\n",
       " '3',\n",
       " '4',\n",
       " '5',\n",
       " '6',\n",
       " '7',\n",
       " '8',\n",
       " '9',\n",
       " '10',\n",
       " '11',\n",
       " '12',\n",
       " '13',\n",
       " '14',\n",
       " '15',\n",
       " '16',\n",
       " '17',\n",
       " '18',\n",
       " '19',\n",
       " '20',\n",
       " '21',\n",
       " '22',\n",
       " '23',\n",
       " '24',\n",
       " '25',\n",
       " '26',\n",
       " '27',\n",
       " '28',\n",
       " '29',\n",
       " '30',\n",
       " '31']"
      ]
     },
     "execution_count": 16,
     "metadata": {},
     "output_type": "execute_result"
    }
   ],
   "source": [
    "# 그래프에서 x축의 순서를 정리하기 위하여 order list를 생성합니다.\n",
    "xorder2 = []\n",
    "for i in range(1,32):\n",
    "    \n",
    "    xorder2.append(str(i))\n",
    "\n",
    "xorder2"
   ]
  },
  {
   "cell_type": "code",
   "execution_count": 17,
   "id": "cd1ce5a5",
   "metadata": {},
   "outputs": [
    {
     "data": {
      "image/png": "[encoded data removed]",
      "text/plain": [
       "<Figure size 1440x720 with 1 Axes>"
      ]
     },
     "metadata": {},
     "output_type": "display_data"
    }
   ],
   "source": [
    "# seaborn의 countplot 함수를 사용하여 출력합니다.\n",
    "plt.figure(figsize=(20,10))\n",
    "sns.set(style=\"darkgrid\")\n",
    "ax = sns.countplot(x=\"day\", data=covid_delete_col[covid_delete_col['month'] == '08'], palette=\"rocket_r\", order = xorder2)"
   ]
  },
  {
   "cell_type": "markdown",
   "id": "855939e2",
   "metadata": {
    "id": "CFeexAklwUBt"
   },
   "source": [
    "### 3.4. 지역별 확진자 수 출력"
   ]
  },
  {
   "cell_type": "markdown",
   "id": "55508eb8",
   "metadata": {
    "id": "lfcwtG2vwUBt"
   },
   "source": [
    "`지역` 데이터를 간단히 출력해보면 `oo구` 형태의 문자열 데이터임을 알 수 있다."
   ]
  },
  {
   "cell_type": "code",
   "execution_count": 18,
   "id": "0ddfce86",
   "metadata": {},
   "outputs": [
    {
     "data": {
      "text/plain": [
       "0        영등포구\n",
       "1        서대문구\n",
       "2         타시도\n",
       "3         타시도\n",
       "4         타시도\n",
       "         ... \n",
       "63011     동작구\n",
       "63012     타시도\n",
       "63013     타시도\n",
       "63014     광진구\n",
       "63015     용산구\n",
       "Name: 지역, Length: 63016, dtype: object"
      ]
     },
     "execution_count": 18,
     "metadata": {},
     "output_type": "execute_result"
    }
   ],
   "source": [
    "covid_delete_col['지역']"
   ]
  },
  {
   "cell_type": "markdown",
   "id": "6de0ac53",
   "metadata": {
    "id": "tM5mk2V9wUBu"
   },
   "source": [
    "지역별로 확진자가 얼마나 있는지 막대그래프로 출력."
   ]
  },
  {
   "cell_type": "code",
   "execution_count": 19,
   "id": "33bc1ac1",
   "metadata": {},
   "outputs": [],
   "source": [
    "import matplotlib.font_manager as fm\n",
    "\n",
    "font_dirs = ['/usr/share/fonts/truetype/nanum', ]\n",
    "font_files = fm.findSystemFonts(fontpaths=font_dirs)\n",
    "\n",
    "for font_file in font_files:\n",
    "    fm.fontManager.addfont(font_file)"
   ]
  },
  {
   "cell_type": "code",
   "execution_count": 20,
   "id": "093439ee",
   "metadata": {},
   "outputs": [
    {
     "data": {
      "image/png": "[encoded data removed]",
      "text/plain": [
       "<Figure size 2880x720 with 1 Axes>"
      ]
     },
     "metadata": {},
     "output_type": "display_data"
    }
   ],
   "source": [
    "plt.figure(figsize=(40,10))\n",
    "plt.rcParams['font.family'] = 'AppleGothic'\n",
    "\n",
    "# 한글 출력을 위해서 폰트 옵션을 설정.\n",
    "# 참고: https://teddylee777.github.io/visualization/matplotlib-%EC%8B%9C%EA%B0%81%ED%99%94-%ED%95%9C%EA%B8%80%ED%8F%B0%ED%8A%B8%EC%A0%81%EC%9A%A9)\n",
    "sns.set(font=\"AppleGothic\", \n",
    "        rc={\"axes.unicode_minus\":False},\n",
    "        style='darkgrid')\n",
    "\n",
    "ax = sns.countplot(x=\"지역\", data=covid_delete_col, palette=\"Set2\")"
   ]
  },
  {
   "cell_type": "markdown",
   "id": "b5d21ab5",
   "metadata": {
    "id": "Xiy8Sry7wUBx"
   },
   "source": [
    "### 3.5. 8월달 지역별 확진자 수 출력"
   ]
  },
  {
   "cell_type": "markdown",
   "id": "af9486c6",
   "metadata": {
    "id": "dITR9gJQwUBy"
   },
   "source": [
    "감염자가 많았던 8월에는 지역별로 확진자가 어떻게 분포되어 있는지 막대그래프로 출력해 봅시다."
   ]
  },
  {
   "cell_type": "code",
   "execution_count": 21,
   "id": "4a79eb9b",
   "metadata": {},
   "outputs": [
    {
     "data": {
      "text/html": [
       "<div>\n",
       "<style scoped>\n",
       "    .dataframe tbody tr th:only-of-type {\n",
       "        vertical-align: middle;\n",
       "    }\n",
       "\n",
       "    .dataframe tbody tr th {\n",
       "        vertical-align: top;\n",
       "    }\n",
       "\n",
       "    .dataframe thead th {\n",
       "        text-align: right;\n",
       "    }\n",
       "</style>\n",
       "<table border=\"1\" class=\"dataframe\">\n",
       "  <thead>\n",
       "    <tr style=\"text-align: right;\">\n",
       "      <th></th>\n",
       "      <th>연번</th>\n",
       "      <th>확진일</th>\n",
       "      <th>지역</th>\n",
       "      <th>여행력</th>\n",
       "      <th>접촉력</th>\n",
       "      <th>상태</th>\n",
       "      <th>등록일</th>\n",
       "      <th>수정일</th>\n",
       "      <th>노출여부</th>\n",
       "      <th>year</th>\n",
       "      <th>month</th>\n",
       "      <th>day</th>\n",
       "    </tr>\n",
       "  </thead>\n",
       "  <tbody>\n",
       "    <tr>\n",
       "      <th>2635</th>\n",
       "      <td>80018</td>\n",
       "      <td>2021-08-31</td>\n",
       "      <td>강동구</td>\n",
       "      <td>NaN</td>\n",
       "      <td>기타 확진자 접촉</td>\n",
       "      <td>-</td>\n",
       "      <td>2021-09-06 10:36</td>\n",
       "      <td>2021-09-06 10:36</td>\n",
       "      <td>Y</td>\n",
       "      <td>2021</td>\n",
       "      <td>08</td>\n",
       "      <td>31</td>\n",
       "    </tr>\n",
       "    <tr>\n",
       "      <th>2636</th>\n",
       "      <td>80017</td>\n",
       "      <td>2021-08-31</td>\n",
       "      <td>강동구</td>\n",
       "      <td>NaN</td>\n",
       "      <td>기타 확진자 접촉</td>\n",
       "      <td>-</td>\n",
       "      <td>2021-09-06 10:36</td>\n",
       "      <td>2021-09-06 10:36</td>\n",
       "      <td>Y</td>\n",
       "      <td>2021</td>\n",
       "      <td>08</td>\n",
       "      <td>31</td>\n",
       "    </tr>\n",
       "    <tr>\n",
       "      <th>2637</th>\n",
       "      <td>80016</td>\n",
       "      <td>2021-08-31</td>\n",
       "      <td>강동구</td>\n",
       "      <td>NaN</td>\n",
       "      <td>기타 확진자 접촉</td>\n",
       "      <td>-</td>\n",
       "      <td>2021-09-06 10:36</td>\n",
       "      <td>2021-09-06 10:36</td>\n",
       "      <td>Y</td>\n",
       "      <td>2021</td>\n",
       "      <td>08</td>\n",
       "      <td>31</td>\n",
       "    </tr>\n",
       "    <tr>\n",
       "      <th>2638</th>\n",
       "      <td>80015</td>\n",
       "      <td>2021-08-31</td>\n",
       "      <td>강남구</td>\n",
       "      <td>NaN</td>\n",
       "      <td>감염경로 조사중</td>\n",
       "      <td>-</td>\n",
       "      <td>2021-09-06 10:36</td>\n",
       "      <td>2021-09-06 10:36</td>\n",
       "      <td>Y</td>\n",
       "      <td>2021</td>\n",
       "      <td>08</td>\n",
       "      <td>31</td>\n",
       "    </tr>\n",
       "    <tr>\n",
       "      <th>2639</th>\n",
       "      <td>80014</td>\n",
       "      <td>2021-08-31</td>\n",
       "      <td>강남구</td>\n",
       "      <td>NaN</td>\n",
       "      <td>기타 확진자 접촉</td>\n",
       "      <td>-</td>\n",
       "      <td>2021-09-06 10:36</td>\n",
       "      <td>2021-09-06 10:36</td>\n",
       "      <td>Y</td>\n",
       "      <td>2021</td>\n",
       "      <td>08</td>\n",
       "      <td>31</td>\n",
       "    </tr>\n",
       "    <tr>\n",
       "      <th>...</th>\n",
       "      <td>...</td>\n",
       "      <td>...</td>\n",
       "      <td>...</td>\n",
       "      <td>...</td>\n",
       "      <td>...</td>\n",
       "      <td>...</td>\n",
       "      <td>...</td>\n",
       "      <td>...</td>\n",
       "      <td>...</td>\n",
       "      <td>...</td>\n",
       "      <td>...</td>\n",
       "      <td>...</td>\n",
       "    </tr>\n",
       "    <tr>\n",
       "      <th>17825</th>\n",
       "      <td>64828</td>\n",
       "      <td>2021-08-01</td>\n",
       "      <td>마포구</td>\n",
       "      <td>NaN</td>\n",
       "      <td>감염경로 조사중</td>\n",
       "      <td>퇴원</td>\n",
       "      <td>2021-09-06 10:36</td>\n",
       "      <td>2021-09-06 10:36</td>\n",
       "      <td>Y</td>\n",
       "      <td>2021</td>\n",
       "      <td>08</td>\n",
       "      <td>01</td>\n",
       "    </tr>\n",
       "    <tr>\n",
       "      <th>17826</th>\n",
       "      <td>64827</td>\n",
       "      <td>2021-08-01</td>\n",
       "      <td>마포구</td>\n",
       "      <td>NaN</td>\n",
       "      <td>감염경로 조사중</td>\n",
       "      <td>퇴원</td>\n",
       "      <td>2021-09-06 10:36</td>\n",
       "      <td>2021-09-06 10:36</td>\n",
       "      <td>Y</td>\n",
       "      <td>2021</td>\n",
       "      <td>08</td>\n",
       "      <td>01</td>\n",
       "    </tr>\n",
       "    <tr>\n",
       "      <th>17827</th>\n",
       "      <td>64826</td>\n",
       "      <td>2021-08-01</td>\n",
       "      <td>마포구</td>\n",
       "      <td>NaN</td>\n",
       "      <td>마포구 소재 음식점 관련(?21.7.(2))</td>\n",
       "      <td>퇴원</td>\n",
       "      <td>2021-09-06 10:36</td>\n",
       "      <td>2021-09-06 10:36</td>\n",
       "      <td>Y</td>\n",
       "      <td>2021</td>\n",
       "      <td>08</td>\n",
       "      <td>01</td>\n",
       "    </tr>\n",
       "    <tr>\n",
       "      <th>17828</th>\n",
       "      <td>64825</td>\n",
       "      <td>2021-08-01</td>\n",
       "      <td>용산구</td>\n",
       "      <td>NaN</td>\n",
       "      <td>기타 확진자 접촉</td>\n",
       "      <td>퇴원</td>\n",
       "      <td>2021-09-06 10:36</td>\n",
       "      <td>2021-09-06 10:36</td>\n",
       "      <td>Y</td>\n",
       "      <td>2021</td>\n",
       "      <td>08</td>\n",
       "      <td>01</td>\n",
       "    </tr>\n",
       "    <tr>\n",
       "      <th>17829</th>\n",
       "      <td>64824</td>\n",
       "      <td>2021-08-01</td>\n",
       "      <td>도봉구</td>\n",
       "      <td>NaN</td>\n",
       "      <td>감염경로 조사중</td>\n",
       "      <td>퇴원</td>\n",
       "      <td>2021-09-06 10:36</td>\n",
       "      <td>2021-09-06 10:36</td>\n",
       "      <td>Y</td>\n",
       "      <td>2021</td>\n",
       "      <td>08</td>\n",
       "      <td>01</td>\n",
       "    </tr>\n",
       "  </tbody>\n",
       "</table>\n",
       "<p>15195 rows × 12 columns</p>\n",
       "</div>"
      ],
      "text/plain": [
       "          연번         확진일   지역  여행력                       접촉력  상태  \\\n",
       "2635   80018  2021-08-31  강동구  NaN                 기타 확진자 접촉   -   \n",
       "2636   80017  2021-08-31  강동구  NaN                 기타 확진자 접촉   -   \n",
       "2637   80016  2021-08-31  강동구  NaN                 기타 확진자 접촉   -   \n",
       "2638   80015  2021-08-31  강남구  NaN                  감염경로 조사중   -   \n",
       "2639   80014  2021-08-31  강남구  NaN                 기타 확진자 접촉   -   \n",
       "...      ...         ...  ...  ...                       ...  ..   \n",
       "17825  64828  2021-08-01  마포구  NaN                  감염경로 조사중  퇴원   \n",
       "17826  64827  2021-08-01  마포구  NaN                  감염경로 조사중  퇴원   \n",
       "17827  64826  2021-08-01  마포구  NaN  마포구 소재 음식점 관련(?21.7.(2))  퇴원   \n",
       "17828  64825  2021-08-01  용산구  NaN                 기타 확진자 접촉  퇴원   \n",
       "17829  64824  2021-08-01  도봉구  NaN                  감염경로 조사중  퇴원   \n",
       "\n",
       "                    등록일               수정일 노출여부  year month day  \n",
       "2635   2021-09-06 10:36  2021-09-06 10:36    Y  2021    08  31  \n",
       "2636   2021-09-06 10:36  2021-09-06 10:36    Y  2021    08  31  \n",
       "2637   2021-09-06 10:36  2021-09-06 10:36    Y  2021    08  31  \n",
       "2638   2021-09-06 10:36  2021-09-06 10:36    Y  2021    08  31  \n",
       "2639   2021-09-06 10:36  2021-09-06 10:36    Y  2021    08  31  \n",
       "...                 ...               ...  ...   ...   ...  ..  \n",
       "17825  2021-09-06 10:36  2021-09-06 10:36    Y  2021    08  01  \n",
       "17826  2021-09-06 10:36  2021-09-06 10:36    Y  2021    08  01  \n",
       "17827  2021-09-06 10:36  2021-09-06 10:36    Y  2021    08  01  \n",
       "17828  2021-09-06 10:36  2021-09-06 10:36    Y  2021    08  01  \n",
       "17829  2021-09-06 10:36  2021-09-06 10:36    Y  2021    08  01  \n",
       "\n",
       "[15195 rows x 12 columns]"
      ]
     },
     "execution_count": 21,
     "metadata": {},
     "output_type": "execute_result"
    }
   ],
   "source": [
    "# 논리연산을 이용한 조건을 다음과 같이 사용하면 해당 조건에 맞는 데이터를 출력할 수 있습니다.\n",
    "covid_delete_col[covid_delete_col['month'] == '08']"
   ]
  },
  {
   "cell_type": "code",
   "execution_count": 22,
   "id": "152ce54b",
   "metadata": {},
   "outputs": [
    {
     "data": {
      "image/png": "[encoded data removed]",
      "text/plain": [
       "<Figure size 1440x720 with 1 Axes>"
      ]
     },
     "metadata": {},
     "output_type": "display_data"
    }
   ],
   "source": [
    "# 그래프로 출력합니다.\n",
    "plt.figure(figsize=(20,10))\n",
    "plt.rcParams['font.family'] = 'AppleGothic'\n",
    "sns.set(font='AppleGothic', \n",
    "        rc={\"axes.unicode_minus\":False},\n",
    "        style='darkgrid')\n",
    "ax = sns.countplot(x=\"지역\", data=covid_delete_col[covid_delete_col['month'] == '08'], palette=\"Set2\")"
   ]
  },
  {
   "cell_type": "markdown",
   "id": "e7131699",
   "metadata": {},
   "source": [
    "### 3.6. 월별 강남구 확진자 수 출력"
   ]
  },
  {
   "cell_type": "markdown",
   "id": "f91b6106",
   "metadata": {},
   "source": [
    "이번에는 확진자가 가장 많았던 강남구 내의 확진자 수가 월별로 어떻게 증가했는지 그 분포를 막대그래프로 출력해 봅시다."
   ]
  },
  {
   "cell_type": "code",
   "execution_count": 23,
   "id": "3abf2dae",
   "metadata": {},
   "outputs": [
    {
     "data": {
      "text/plain": [
       "73       09\n",
       "86       09\n",
       "90       09\n",
       "92       09\n",
       "93       09\n",
       "         ..\n",
       "62803    01\n",
       "62807    01\n",
       "62910    01\n",
       "62919    01\n",
       "63004    01\n",
       "Name: month, Length: 5072, dtype: object"
      ]
     },
     "execution_count": 23,
     "metadata": {},
     "output_type": "execute_result"
    }
   ],
   "source": [
    "# 해당 column을 지정하여 series 형태로 출력할 수 있습니다.\n",
    "covid_delete_col['month'][covid_delete_col['지역'] == '강남구']"
   ]
  },
  {
   "cell_type": "code",
   "execution_count": 24,
   "id": "7697df72",
   "metadata": {},
   "outputs": [
    {
     "data": {
      "image/png": "[encoded data removed]",
      "text/plain": [
       "<Figure size 720x360 with 1 Axes>"
      ]
     },
     "metadata": {},
     "output_type": "display_data"
    }
   ],
   "source": [
    "import matplotlib.pyplot as plt\n",
    "import seaborn as sns\n",
    "\n",
    "# 그래프를 출력합니다.\n",
    "plt.figure(figsize=(10,5))\n",
    "\n",
    "sns.set(style=\"darkgrid\")\n",
    "ax = sns.countplot(x=\"month\",data= covid_delete_col[covid_delete_col['지역'] == '강남구'] , palette=\"Set2\", order = xorder)\n"
   ]
  },
  {
   "cell_type": "markdown",
   "id": "5b78bd98",
   "metadata": {
    "id": "HXT25c3uwUBz"
   },
   "source": [
    "### 3.7. 서울 지역에서 확진자를 지도에 출력"
   ]
  },
  {
   "cell_type": "markdown",
   "id": "10ccec29",
   "metadata": {
    "id": "DhdbiSYSwUBz"
   },
   "source": [
    "지도를 출력하기 위한 라이브러리로 folium을 사용해 봅시다."
   ]
  },
  {
   "cell_type": "code",
   "execution_count": 25,
   "id": "39b30694",
   "metadata": {},
   "outputs": [
    {
     "data": {
      "text/html": [
       "<div style=\"width:100%;\"><div style=\"position:relative;width:100%;height:0;padding-bottom:60%;\"><span style=\"color:#565656\">Make this Notebook Trusted to load map: File -> Trust Notebook</span><iframe src=\"about:blank\" style=\"position:absolute;width:100%;height:100%;left:0;top:0;border:none !important;\" data-html=%3C%21DOCTYPE%20html%3E%0A%3Chead%3E%20%20%20%20%0A%20%20%20%20%3Cmeta%20http-equiv%3D%22content-type%22%20content%3D%22text/html%3B%20charset%3DUTF-8%22%20/%3E%0A%20%20%20%20%0A%20%20%20%20%20%20%20%20%3Cscript%3E%0A%20%20%20%20%20%20%20%20%20%20%20%20L_NO_TOUCH%20%3D%20false%3B%0A%20%20%20%20%20%20%20%20%20%20%20%20L_DISABLE_3D%20%3D%20false%3B%0A%20%20%20%20%20%20%20%20%3C/script%3E%0A%20%20%20%20%0A%20%20%20%20%3Cstyle%3Ehtml%2C%20body%20%7Bwidth%3A%20100%25%3Bheight%3A%20100%25%3Bmargin%3A%200%3Bpadding%3A%200%3B%7D%3C/style%3E%0A%20%20%20%20%3Cstyle%3E%23map%20%7Bposition%3Aabsolute%3Btop%3A0%3Bbottom%3A0%3Bright%3A0%3Bleft%3A0%3B%7D%3C/style%3E%0A%20%20%20%20%3Cscript%20src%3D%22https%3A//cdn.jsdelivr.net/npm/leaflet%401.6.0/dist/leaflet.js%22%3E%3C/script%3E%0A%20%20%20%20%3Cscript%20src%3D%22https%3A//code.jquery.com/jquery-1.12.4.min.js%22%3E%3C/script%3E%0A%20%20%20%20%3Cscript%20src%3D%22https%3A//maxcdn.bootstrapcdn.com/bootstrap/3.2.0/js/bootstrap.min.js%22%3E%3C/script%3E%0A%20%20%20%20%3Cscript%20src%3D%22https%3A//cdnjs.cloudflare.com/ajax/libs/Leaflet.awesome-markers/2.0.2/leaflet.awesome-markers.js%22%3E%3C/script%3E%0A%20%20%20%20%3Clink%20rel%3D%22stylesheet%22%20href%3D%22https%3A//cdn.jsdelivr.net/npm/leaflet%401.6.0/dist/leaflet.css%22/%3E%0A%20%20%20%20%3Clink%20rel%3D%22stylesheet%22%20href%3D%22https%3A//maxcdn.bootstrapcdn.com/bootstrap/3.2.0/css/bootstrap.min.css%22/%3E%0A%20%20%20%20%3Clink%20rel%3D%22stylesheet%22%20href%3D%22https%3A//maxcdn.bootstrapcdn.com/bootstrap/3.2.0/css/bootstrap-theme.min.css%22/%3E%0A%20%20%20%20%3Clink%20rel%3D%22stylesheet%22%20href%3D%22https%3A//maxcdn.bootstrapcdn.com/font-awesome/4.6.3/css/font-awesome.min.css%22/%3E%0A%20%20%20%20%3Clink%20rel%3D%22stylesheet%22%20href%3D%22https%3A//cdnjs.cloudflare.com/ajax/libs/Leaflet.awesome-markers/2.0.2/leaflet.awesome-markers.css%22/%3E%0A%20%20%20%20%3Clink%20rel%3D%22stylesheet%22%20href%3D%22https%3A//cdn.jsdelivr.net/gh/python-visualization/folium/folium/templates/leaflet.awesome.rotate.min.css%22/%3E%0A%20%20%20%20%0A%20%20%20%20%20%20%20%20%20%20%20%20%3Cmeta%20name%3D%22viewport%22%20content%3D%22width%3Ddevice-width%2C%0A%20%20%20%20%20%20%20%20%20%20%20%20%20%20%20%20initial-scale%3D1.0%2C%20maximum-scale%3D1.0%2C%20user-scalable%3Dno%22%20/%3E%0A%20%20%20%20%20%20%20%20%20%20%20%20%3Cstyle%3E%0A%20%20%20%20%20%20%20%20%20%20%20%20%20%20%20%20%23map_a46ebd23e6324b7fa499e814210b3e78%20%7B%0A%20%20%20%20%20%20%20%20%20%20%20%20%20%20%20%20%20%20%20%20position%3A%20relative%3B%0A%20%20%20%20%20%20%20%20%20%20%20%20%20%20%20%20%20%20%20%20width%3A%20100.0%25%3B%0A%20%20%20%20%20%20%20%20%20%20%20%20%20%20%20%20%20%20%20%20height%3A%20100.0%25%3B%0A%20%20%20%20%20%20%20%20%20%20%20%20%20%20%20%20%20%20%20%20left%3A%200.0%25%3B%0A%20%20%20%20%20%20%20%20%20%20%20%20%20%20%20%20%20%20%20%20top%3A%200.0%25%3B%0A%20%20%20%20%20%20%20%20%20%20%20%20%20%20%20%20%7D%0A%20%20%20%20%20%20%20%20%20%20%20%20%3C/style%3E%0A%20%20%20%20%20%20%20%20%0A%3C/head%3E%0A%3Cbody%3E%20%20%20%20%0A%20%20%20%20%0A%20%20%20%20%20%20%20%20%20%20%20%20%3Cdiv%20class%3D%22folium-map%22%20id%3D%22map_a46ebd23e6324b7fa499e814210b3e78%22%20%3E%3C/div%3E%0A%20%20%20%20%20%20%20%20%0A%3C/body%3E%0A%3Cscript%3E%20%20%20%20%0A%20%20%20%20%0A%20%20%20%20%20%20%20%20%20%20%20%20var%20map_a46ebd23e6324b7fa499e814210b3e78%20%3D%20L.map%28%0A%20%20%20%20%20%20%20%20%20%20%20%20%20%20%20%20%22map_a46ebd23e6324b7fa499e814210b3e78%22%2C%0A%20%20%20%20%20%20%20%20%20%20%20%20%20%20%20%20%7B%0A%20%20%20%20%20%20%20%20%20%20%20%20%20%20%20%20%20%20%20%20center%3A%20%5B37.529622%2C%20126.984307%5D%2C%0A%20%20%20%20%20%20%20%20%20%20%20%20%20%20%20%20%20%20%20%20crs%3A%20L.CRS.EPSG3857%2C%0A%20%20%20%20%20%20%20%20%20%20%20%20%20%20%20%20%20%20%20%20zoom%3A%2011%2C%0A%20%20%20%20%20%20%20%20%20%20%20%20%20%20%20%20%20%20%20%20zoomControl%3A%20true%2C%0A%20%20%20%20%20%20%20%20%20%20%20%20%20%20%20%20%20%20%20%20preferCanvas%3A%20false%2C%0A%20%20%20%20%20%20%20%20%20%20%20%20%20%20%20%20%7D%0A%20%20%20%20%20%20%20%20%20%20%20%20%29%3B%0A%0A%20%20%20%20%20%20%20%20%20%20%20%20%0A%0A%20%20%20%20%20%20%20%20%0A%20%20%20%20%0A%20%20%20%20%20%20%20%20%20%20%20%20var%20tile_layer_12bfe2cf7ea94f068cb161108db395f8%20%3D%20L.tileLayer%28%0A%20%20%20%20%20%20%20%20%20%20%20%20%20%20%20%20%22https%3A//%7Bs%7D.tile.openstreetmap.org/%7Bz%7D/%7Bx%7D/%7By%7D.png%22%2C%0A%20%20%20%20%20%20%20%20%20%20%20%20%20%20%20%20%7B%22attribution%22%3A%20%22Data%20by%20%5Cu0026copy%3B%20%5Cu003ca%20href%3D%5C%22http%3A//openstreetmap.org%5C%22%5Cu003eOpenStreetMap%5Cu003c/a%5Cu003e%2C%20under%20%5Cu003ca%20href%3D%5C%22http%3A//www.openstreetmap.org/copyright%5C%22%5Cu003eODbL%5Cu003c/a%5Cu003e.%22%2C%20%22detectRetina%22%3A%20false%2C%20%22maxNativeZoom%22%3A%2018%2C%20%22maxZoom%22%3A%2018%2C%20%22minZoom%22%3A%200%2C%20%22noWrap%22%3A%20false%2C%20%22opacity%22%3A%201%2C%20%22subdomains%22%3A%20%22abc%22%2C%20%22tms%22%3A%20false%7D%0A%20%20%20%20%20%20%20%20%20%20%20%20%29.addTo%28map_a46ebd23e6324b7fa499e814210b3e78%29%3B%0A%20%20%20%20%20%20%20%20%0A%3C/script%3E onload=\"this.contentDocument.open();this.contentDocument.write(    decodeURIComponent(this.getAttribute('data-html')));this.contentDocument.close();\" allowfullscreen webkitallowfullscreen mozallowfullscreen></iframe></div></div>"
      ],
      "text/plain": [
       "<folium.folium.Map at 0x7fdda923a0a0>"
      ]
     },
     "execution_count": 25,
     "metadata": {},
     "output_type": "execute_result"
    }
   ],
   "source": [
    "# 지도 출력을 위한 라이브러리 folium을 import 합니다.\n",
    "import folium\n",
    "\n",
    "# Map 함수를 사용하여 지도를 출력합니다.\n",
    "map_osm = folium.Map(location=[37.529622, 126.984307], zoom_start=11)\n",
    "\n",
    "map_osm"
   ]
  },
  {
   "cell_type": "markdown",
   "id": "6a93c430",
   "metadata": {},
   "source": [
    "지역마다 지도에 정보를 출력하기 위해서는 각 지역의 좌표정보가 필요합니다.\n",
    "\n",
    "이를 해결하기 위해서 서울시 행정구역 시군 정보 데이터를 불러와 사용합니다.\n",
    "\n",
    "데이터 출처: https://data.seoul.go.kr/dataList/OA-11677/S/1/datasetView.do"
   ]
  },
  {
   "cell_type": "code",
   "execution_count": 26,
   "id": "112a8713",
   "metadata": {},
   "outputs": [],
   "source": [
    "# CRS에 저장합니다.\n",
    "CRS=pd.read_csv(\"./data/서울시 행정구역 시군구 정보 (좌표계_ WGS1984).csv\")"
   ]
  },
  {
   "cell_type": "code",
   "execution_count": 27,
   "id": "eb789915",
   "metadata": {},
   "outputs": [
    {
     "data": {
      "text/html": [
       "<div>\n",
       "<style scoped>\n",
       "    .dataframe tbody tr th:only-of-type {\n",
       "        vertical-align: middle;\n",
       "    }\n",
       "\n",
       "    .dataframe tbody tr th {\n",
       "        vertical-align: top;\n",
       "    }\n",
       "\n",
       "    .dataframe thead th {\n",
       "        text-align: right;\n",
       "    }\n",
       "</style>\n",
       "<table border=\"1\" class=\"dataframe\">\n",
       "  <thead>\n",
       "    <tr style=\"text-align: right;\">\n",
       "      <th></th>\n",
       "      <th>순번</th>\n",
       "      <th>시군구코드</th>\n",
       "      <th>시군구명_한글</th>\n",
       "      <th>시군구명_영문</th>\n",
       "      <th>ESRI_PK</th>\n",
       "      <th>위도</th>\n",
       "      <th>경도</th>\n",
       "    </tr>\n",
       "  </thead>\n",
       "  <tbody>\n",
       "    <tr>\n",
       "      <th>0</th>\n",
       "      <td>1</td>\n",
       "      <td>11320</td>\n",
       "      <td>도봉구</td>\n",
       "      <td>Dobong-gu</td>\n",
       "      <td>0</td>\n",
       "      <td>37.665861</td>\n",
       "      <td>127.031767</td>\n",
       "    </tr>\n",
       "    <tr>\n",
       "      <th>1</th>\n",
       "      <td>2</td>\n",
       "      <td>11380</td>\n",
       "      <td>은평구</td>\n",
       "      <td>Eunpyeong-gu</td>\n",
       "      <td>1</td>\n",
       "      <td>37.617612</td>\n",
       "      <td>126.922700</td>\n",
       "    </tr>\n",
       "    <tr>\n",
       "      <th>2</th>\n",
       "      <td>3</td>\n",
       "      <td>11230</td>\n",
       "      <td>동대문구</td>\n",
       "      <td>Dongdaemun-gu</td>\n",
       "      <td>2</td>\n",
       "      <td>37.583801</td>\n",
       "      <td>127.050700</td>\n",
       "    </tr>\n",
       "    <tr>\n",
       "      <th>3</th>\n",
       "      <td>4</td>\n",
       "      <td>11590</td>\n",
       "      <td>동작구</td>\n",
       "      <td>Dongjak-gu</td>\n",
       "      <td>3</td>\n",
       "      <td>37.496504</td>\n",
       "      <td>126.944307</td>\n",
       "    </tr>\n",
       "    <tr>\n",
       "      <th>4</th>\n",
       "      <td>5</td>\n",
       "      <td>11545</td>\n",
       "      <td>금천구</td>\n",
       "      <td>Geumcheon-gu</td>\n",
       "      <td>4</td>\n",
       "      <td>37.460097</td>\n",
       "      <td>126.900155</td>\n",
       "    </tr>\n",
       "    <tr>\n",
       "      <th>5</th>\n",
       "      <td>6</td>\n",
       "      <td>11530</td>\n",
       "      <td>구로구</td>\n",
       "      <td>Guro-gu</td>\n",
       "      <td>5</td>\n",
       "      <td>37.495486</td>\n",
       "      <td>126.858121</td>\n",
       "    </tr>\n",
       "    <tr>\n",
       "      <th>6</th>\n",
       "      <td>7</td>\n",
       "      <td>11110</td>\n",
       "      <td>종로구</td>\n",
       "      <td>Jongno-gu</td>\n",
       "      <td>6</td>\n",
       "      <td>37.599100</td>\n",
       "      <td>126.986149</td>\n",
       "    </tr>\n",
       "    <tr>\n",
       "      <th>7</th>\n",
       "      <td>8</td>\n",
       "      <td>11305</td>\n",
       "      <td>강북구</td>\n",
       "      <td>Gangbuk-gu</td>\n",
       "      <td>7</td>\n",
       "      <td>37.646995</td>\n",
       "      <td>127.014716</td>\n",
       "    </tr>\n",
       "    <tr>\n",
       "      <th>8</th>\n",
       "      <td>9</td>\n",
       "      <td>11260</td>\n",
       "      <td>중랑구</td>\n",
       "      <td>Jungnang-gu</td>\n",
       "      <td>8</td>\n",
       "      <td>37.595379</td>\n",
       "      <td>127.093967</td>\n",
       "    </tr>\n",
       "    <tr>\n",
       "      <th>9</th>\n",
       "      <td>10</td>\n",
       "      <td>11680</td>\n",
       "      <td>강남구</td>\n",
       "      <td>Gangnam-gu</td>\n",
       "      <td>9</td>\n",
       "      <td>37.495985</td>\n",
       "      <td>127.066409</td>\n",
       "    </tr>\n",
       "    <tr>\n",
       "      <th>10</th>\n",
       "      <td>11</td>\n",
       "      <td>11500</td>\n",
       "      <td>강서구</td>\n",
       "      <td>Gangseo-gu</td>\n",
       "      <td>10</td>\n",
       "      <td>37.565762</td>\n",
       "      <td>126.822656</td>\n",
       "    </tr>\n",
       "    <tr>\n",
       "      <th>11</th>\n",
       "      <td>12</td>\n",
       "      <td>11140</td>\n",
       "      <td>중구</td>\n",
       "      <td>Jung-gu</td>\n",
       "      <td>11</td>\n",
       "      <td>37.557945</td>\n",
       "      <td>126.994190</td>\n",
       "    </tr>\n",
       "    <tr>\n",
       "      <th>12</th>\n",
       "      <td>13</td>\n",
       "      <td>11740</td>\n",
       "      <td>강동구</td>\n",
       "      <td>Gangdong-gu</td>\n",
       "      <td>12</td>\n",
       "      <td>37.549208</td>\n",
       "      <td>127.146482</td>\n",
       "    </tr>\n",
       "    <tr>\n",
       "      <th>13</th>\n",
       "      <td>14</td>\n",
       "      <td>11215</td>\n",
       "      <td>광진구</td>\n",
       "      <td>Gwangjin-gu</td>\n",
       "      <td>13</td>\n",
       "      <td>37.548144</td>\n",
       "      <td>127.085753</td>\n",
       "    </tr>\n",
       "    <tr>\n",
       "      <th>14</th>\n",
       "      <td>15</td>\n",
       "      <td>11440</td>\n",
       "      <td>마포구</td>\n",
       "      <td>Mapo-gu</td>\n",
       "      <td>14</td>\n",
       "      <td>37.562291</td>\n",
       "      <td>126.908780</td>\n",
       "    </tr>\n",
       "    <tr>\n",
       "      <th>15</th>\n",
       "      <td>16</td>\n",
       "      <td>11650</td>\n",
       "      <td>서초구</td>\n",
       "      <td>Seocho-gu</td>\n",
       "      <td>16</td>\n",
       "      <td>37.476953</td>\n",
       "      <td>127.037810</td>\n",
       "    </tr>\n",
       "    <tr>\n",
       "      <th>16</th>\n",
       "      <td>17</td>\n",
       "      <td>11290</td>\n",
       "      <td>성북구</td>\n",
       "      <td>Seongbuk-gu</td>\n",
       "      <td>17</td>\n",
       "      <td>37.606991</td>\n",
       "      <td>127.023218</td>\n",
       "    </tr>\n",
       "    <tr>\n",
       "      <th>17</th>\n",
       "      <td>18</td>\n",
       "      <td>11350</td>\n",
       "      <td>노원구</td>\n",
       "      <td>Nowon-gu</td>\n",
       "      <td>18</td>\n",
       "      <td>37.655264</td>\n",
       "      <td>127.077120</td>\n",
       "    </tr>\n",
       "    <tr>\n",
       "      <th>18</th>\n",
       "      <td>19</td>\n",
       "      <td>11710</td>\n",
       "      <td>송파구</td>\n",
       "      <td>Songpa-gu</td>\n",
       "      <td>19</td>\n",
       "      <td>37.504853</td>\n",
       "      <td>127.114482</td>\n",
       "    </tr>\n",
       "    <tr>\n",
       "      <th>19</th>\n",
       "      <td>20</td>\n",
       "      <td>11410</td>\n",
       "      <td>서대문구</td>\n",
       "      <td>Seodaemun-gu</td>\n",
       "      <td>21</td>\n",
       "      <td>37.582037</td>\n",
       "      <td>126.935666</td>\n",
       "    </tr>\n",
       "    <tr>\n",
       "      <th>20</th>\n",
       "      <td>21</td>\n",
       "      <td>11470</td>\n",
       "      <td>양천구</td>\n",
       "      <td>Yangcheon-gu</td>\n",
       "      <td>22</td>\n",
       "      <td>37.527062</td>\n",
       "      <td>126.856153</td>\n",
       "    </tr>\n",
       "    <tr>\n",
       "      <th>21</th>\n",
       "      <td>22</td>\n",
       "      <td>11560</td>\n",
       "      <td>영등포구</td>\n",
       "      <td>Yeongdeungpo-gu</td>\n",
       "      <td>23</td>\n",
       "      <td>37.520641</td>\n",
       "      <td>126.913924</td>\n",
       "    </tr>\n",
       "    <tr>\n",
       "      <th>22</th>\n",
       "      <td>23</td>\n",
       "      <td>11620</td>\n",
       "      <td>관악구</td>\n",
       "      <td>Gwanak-gu</td>\n",
       "      <td>15</td>\n",
       "      <td>37.465399</td>\n",
       "      <td>126.943807</td>\n",
       "    </tr>\n",
       "    <tr>\n",
       "      <th>23</th>\n",
       "      <td>24</td>\n",
       "      <td>11200</td>\n",
       "      <td>성동구</td>\n",
       "      <td>Seongdong-gu</td>\n",
       "      <td>20</td>\n",
       "      <td>37.550675</td>\n",
       "      <td>127.040962</td>\n",
       "    </tr>\n",
       "    <tr>\n",
       "      <th>24</th>\n",
       "      <td>25</td>\n",
       "      <td>11170</td>\n",
       "      <td>용산구</td>\n",
       "      <td>Yongsan-gu</td>\n",
       "      <td>24</td>\n",
       "      <td>37.531101</td>\n",
       "      <td>126.981074</td>\n",
       "    </tr>\n",
       "  </tbody>\n",
       "</table>\n",
       "</div>"
      ],
      "text/plain": [
       "    순번  시군구코드 시군구명_한글          시군구명_영문  ESRI_PK         위도          경도\n",
       "0    1  11320     도봉구        Dobong-gu        0  37.665861  127.031767\n",
       "1    2  11380     은평구     Eunpyeong-gu        1  37.617612  126.922700\n",
       "2    3  11230    동대문구    Dongdaemun-gu        2  37.583801  127.050700\n",
       "3    4  11590     동작구       Dongjak-gu        3  37.496504  126.944307\n",
       "4    5  11545     금천구     Geumcheon-gu        4  37.460097  126.900155\n",
       "5    6  11530     구로구          Guro-gu        5  37.495486  126.858121\n",
       "6    7  11110     종로구        Jongno-gu        6  37.599100  126.986149\n",
       "7    8  11305     강북구       Gangbuk-gu        7  37.646995  127.014716\n",
       "8    9  11260     중랑구      Jungnang-gu        8  37.595379  127.093967\n",
       "9   10  11680     강남구       Gangnam-gu        9  37.495985  127.066409\n",
       "10  11  11500     강서구       Gangseo-gu       10  37.565762  126.822656\n",
       "11  12  11140      중구          Jung-gu       11  37.557945  126.994190\n",
       "12  13  11740     강동구      Gangdong-gu       12  37.549208  127.146482\n",
       "13  14  11215     광진구      Gwangjin-gu       13  37.548144  127.085753\n",
       "14  15  11440     마포구          Mapo-gu       14  37.562291  126.908780\n",
       "15  16  11650     서초구        Seocho-gu       16  37.476953  127.037810\n",
       "16  17  11290     성북구      Seongbuk-gu       17  37.606991  127.023218\n",
       "17  18  11350     노원구         Nowon-gu       18  37.655264  127.077120\n",
       "18  19  11710     송파구        Songpa-gu       19  37.504853  127.114482\n",
       "19  20  11410    서대문구     Seodaemun-gu       21  37.582037  126.935666\n",
       "20  21  11470     양천구     Yangcheon-gu       22  37.527062  126.856153\n",
       "21  22  11560    영등포구  Yeongdeungpo-gu       23  37.520641  126.913924\n",
       "22  23  11620     관악구        Gwanak-gu       15  37.465399  126.943807\n",
       "23  24  11200     성동구     Seongdong-gu       20  37.550675  127.040962\n",
       "24  25  11170     용산구       Yongsan-gu       24  37.531101  126.981074"
      ]
     },
     "execution_count": 27,
     "metadata": {},
     "output_type": "execute_result"
    }
   ],
   "source": [
    "# Dataframe을 출력해 봅니다.\n",
    "CRS"
   ]
  },
  {
   "cell_type": "markdown",
   "id": "9a293939",
   "metadata": {
    "id": "S91ipBBnwUB0"
   },
   "source": [
    "이제 for 문을 사용하여 지역마다 확진자를 원형 마커를 사용하여 지도에 출력해 봅시다."
   ]
  },
  {
   "cell_type": "code",
   "execution_count": 32,
   "id": "a58177ed",
   "metadata": {},
   "outputs": [
    {
     "ename": "TypeError",
     "evalue": "cannot convert the series to <class 'float'>",
     "output_type": "error",
     "traceback": [
      "\u001b[0;31m---------------------------------------------------------------------------\u001b[0m",
      "\u001b[0;31mTypeError\u001b[0m                                 Traceback (most recent call last)",
      "\u001b[0;32m<ipython-input-32-6cce760ef234>\u001b[0m in \u001b[0;36m<module>\u001b[0;34m\u001b[0m\n\u001b[1;32m     15\u001b[0m     \u001b[0;31m# 해당 지역의 데이터를 CRS에서 뽑아냅니다.\u001b[0m\u001b[0;34m\u001b[0m\u001b[0;34m\u001b[0m\u001b[0;34m\u001b[0m\u001b[0m\n\u001b[1;32m     16\u001b[0m     \u001b[0mCRS_region\u001b[0m \u001b[0;34m=\u001b[0m \u001b[0mCRS\u001b[0m\u001b[0;34m[\u001b[0m\u001b[0mCRS\u001b[0m\u001b[0;34m[\u001b[0m\u001b[0;34m'시군구명_한글'\u001b[0m\u001b[0;34m]\u001b[0m \u001b[0;34m==\u001b[0m \u001b[0mregion\u001b[0m\u001b[0;34m]\u001b[0m\u001b[0;34m\u001b[0m\u001b[0;34m\u001b[0m\u001b[0m\n\u001b[0;32m---> 17\u001b[0;31m     \u001b[0mlat\u001b[0m \u001b[0;34m=\u001b[0m \u001b[0mfloat\u001b[0m\u001b[0;34m(\u001b[0m\u001b[0mCRS_region\u001b[0m\u001b[0;34m[\u001b[0m\u001b[0;34m'위도'\u001b[0m\u001b[0;34m]\u001b[0m\u001b[0;34m)\u001b[0m\u001b[0;34m\u001b[0m\u001b[0;34m\u001b[0m\u001b[0m\n\u001b[0m\u001b[1;32m     18\u001b[0m     \u001b[0mlng\u001b[0m \u001b[0;34m=\u001b[0m \u001b[0mfloat\u001b[0m\u001b[0;34m(\u001b[0m\u001b[0mCRS_region\u001b[0m\u001b[0;34m[\u001b[0m\u001b[0;34m'경도'\u001b[0m\u001b[0;34m]\u001b[0m\u001b[0;34m)\u001b[0m\u001b[0;34m\u001b[0m\u001b[0;34m\u001b[0m\u001b[0m\n\u001b[1;32m     19\u001b[0m \u001b[0;34m\u001b[0m\u001b[0m\n",
      "\u001b[0;32m~/opt/anaconda3/lib/python3.8/site-packages/pandas/core/series.py\u001b[0m in \u001b[0;36mwrapper\u001b[0;34m(self)\u001b[0m\n\u001b[1;32m    139\u001b[0m         \u001b[0;32mif\u001b[0m \u001b[0mlen\u001b[0m\u001b[0;34m(\u001b[0m\u001b[0mself\u001b[0m\u001b[0;34m)\u001b[0m \u001b[0;34m==\u001b[0m \u001b[0;36m1\u001b[0m\u001b[0;34m:\u001b[0m\u001b[0;34m\u001b[0m\u001b[0;34m\u001b[0m\u001b[0m\n\u001b[1;32m    140\u001b[0m             \u001b[0;32mreturn\u001b[0m \u001b[0mconverter\u001b[0m\u001b[0;34m(\u001b[0m\u001b[0mself\u001b[0m\u001b[0;34m.\u001b[0m\u001b[0miloc\u001b[0m\u001b[0;34m[\u001b[0m\u001b[0;36m0\u001b[0m\u001b[0;34m]\u001b[0m\u001b[0;34m)\u001b[0m\u001b[0;34m\u001b[0m\u001b[0;34m\u001b[0m\u001b[0m\n\u001b[0;32m--> 141\u001b[0;31m         \u001b[0;32mraise\u001b[0m \u001b[0mTypeError\u001b[0m\u001b[0;34m(\u001b[0m\u001b[0;34mf\"cannot convert the series to {converter}\"\u001b[0m\u001b[0;34m)\u001b[0m\u001b[0;34m\u001b[0m\u001b[0;34m\u001b[0m\u001b[0m\n\u001b[0m\u001b[1;32m    142\u001b[0m \u001b[0;34m\u001b[0m\u001b[0m\n\u001b[1;32m    143\u001b[0m     \u001b[0mwrapper\u001b[0m\u001b[0;34m.\u001b[0m\u001b[0m__name__\u001b[0m \u001b[0;34m=\u001b[0m \u001b[0;34mf\"__{converter.__name__}__\"\u001b[0m\u001b[0;34m\u001b[0m\u001b[0;34m\u001b[0m\u001b[0m\n",
      "\u001b[0;31mTypeError\u001b[0m: cannot convert the series to <class 'float'>"
     ]
    }
   ],
   "source": [
    "# df_corona의 지역에는 'oo구' 이외로 `타시도`, `기타`에 해당되는 데이터가 존재 합니다.\n",
    "# 위 데이터에 해당되는 위도, 경도를 찾을 수 없기에 삭제하여 corona_seoul로 저장합니다.\n",
    "corona_seoul = covid_delete_col.drop(covid_delete_col[covid_delete_col['지역'] == '타시도'].index)\n",
    "corona_seoul = corona_seoul.drop(covid_delete_col[covid_delete_col['지역'] == '기타'].index)\n",
    "\n",
    "# 서울 가운데 좌표를 잡아 지도를 출력합니다.\n",
    "map_osm = folium.Map(location=[37.529622, 126.984307],\n",
    "                     zoom_start=12)\n",
    "\n",
    "# 지역 정보를 set 함수를 사용하여 25개 고유의 지역을 뽑아냅니다.\n",
    "for region in set(corona_seoul['지역']):\n",
    "\n",
    "    # 해당 지역의 데이터 개수를 count에 저장합니다.\n",
    "    count = len(corona_seoul[corona_seoul['지역'] == region])\n",
    "    # 해당 지역의 데이터를 CRS에서 뽑아냅니다.\n",
    "    CRS_region = CRS[CRS['시군구명_한글'] == region]\n",
    "    lat = float(CRS_region['위도'])\n",
    "    lng = float(CRS_region['경도'])\n",
    "\n",
    "    # CircleMarker를 사용하여 지역마다 원형마커를 생성합니다.\n",
    "    folium.CircleMarker(location=[lat, lng], # 위치\n",
    "                        radius=count/5 + 10,\n",
    "                        fill=True,\n",
    "                        fill_color='#3186cc').add_to(map_osm)\n",
    "    \n",
    "map_osm"
   ]
  },
  {
   "cell_type": "code",
   "execution_count": null,
   "id": "d43252eb",
   "metadata": {},
   "outputs": [],
   "source": []
  },
  {
   "cell_type": "code",
   "execution_count": null,
   "id": "ff531e6b",
   "metadata": {},
   "outputs": [],
   "source": []
  },
  {
   "cell_type": "code",
   "execution_count": null,
   "id": "78adeb72",
   "metadata": {},
   "outputs": [],
   "source": []
  },
  {
   "cell_type": "code",
   "execution_count": null,
   "id": "0a58aca6",
   "metadata": {},
   "outputs": [],
   "source": []
  },
  {
   "cell_type": "code",
   "execution_count": null,
   "id": "e1483687",
   "metadata": {},
   "outputs": [],
   "source": []
  },
  {
   "cell_type": "code",
   "execution_count": null,
   "id": "77fab479",
   "metadata": {},
   "outputs": [],
   "source": []
  }
 ],
 "metadata": {
  "kernelspec": {
   "display_name": "Python 3",
   "language": "python",
   "name": "python3"
  },
  "language_info": {
   "codemirror_mode": {
    "name": "ipython",
    "version": 3
   },
   "file_extension": ".py",
   "mimetype": "text/x-python",
   "name": "python",
   "nbconvert_exporter": "python",
   "pygments_lexer": "ipython3",
   "version": "3.8.8"
  }
 },
 "nbformat": 4,
 "nbformat_minor": 5
}
